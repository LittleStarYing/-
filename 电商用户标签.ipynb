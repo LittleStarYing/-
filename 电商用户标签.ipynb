{
 "cells": [
  {
   "cell_type": "code",
   "execution_count": 1,
   "metadata": {},
   "outputs": [],
   "source": [
    "%matplotlib inline\n",
    "import numpy as np\n",
    "import pandas as pd\n",
    "from matplotlib import pyplot as plt\n",
    "import gc\n",
    "import warnings\n",
    "warnings.filterwarnings('ignore')\n",
    "from datetime import datetime"
   ]
  },
  {
   "cell_type": "code",
   "execution_count": 2,
   "metadata": {},
   "outputs": [],
   "source": [
    "df_orginal = pd.read_csv('taobao_persona.csv')"
   ]
  },
  {
   "cell_type": "markdown",
   "metadata": {},
   "source": [
    "## 数据预处理"
   ]
  },
  {
   "cell_type": "code",
   "execution_count": 3,
   "metadata": {},
   "outputs": [
    {
     "name": "stdout",
     "output_type": "stream",
     "text": [
      "<class 'pandas.core.frame.DataFrame'>\n",
      "RangeIndex: 23291027 entries, 0 to 23291026\n",
      "Data columns (total 6 columns):\n",
      " #   Column         Dtype \n",
      "---  ------         ----- \n",
      " 0   user_id        int64 \n",
      " 1   item_id        int64 \n",
      " 2   behavior_type  int64 \n",
      " 3   user_geohash   object\n",
      " 4   item_category  int64 \n",
      " 5   time           object\n",
      "dtypes: int64(4), object(2)\n",
      "memory usage: 1.0+ GB\n"
     ]
    }
   ],
   "source": [
    "df_orginal.info()"
   ]
  },
  {
   "cell_type": "markdown",
   "metadata": {},
   "source": [
    "数据集太大，为了提高运行效率，随机抽取20%的数据"
   ]
  },
  {
   "cell_type": "markdown",
   "metadata": {},
   "source": [
    "## 数据抽样\n"
   ]
  },
  {
   "cell_type": "code",
   "execution_count": 4,
   "metadata": {},
   "outputs": [],
   "source": [
    "df =df_orginal.sample(frac=0.2,random_state=100)"
   ]
  },
  {
   "cell_type": "code",
   "execution_count": 5,
   "metadata": {},
   "outputs": [
    {
     "data": {
      "text/plain": [
       "10"
      ]
     },
     "execution_count": 5,
     "metadata": {},
     "output_type": "execute_result"
    }
   ],
   "source": [
    "#回收内存\n",
    "del df_orginal\n",
    "gc.collect()"
   ]
  },
  {
   "cell_type": "markdown",
   "metadata": {},
   "source": [
    "## 缺失值处理"
   ]
  },
  {
   "cell_type": "code",
   "execution_count": 6,
   "metadata": {},
   "outputs": [
    {
     "name": "stdout",
     "output_type": "stream",
     "text": [
      "<class 'pandas.core.frame.DataFrame'>\n",
      "Int64Index: 4658205 entries, 7945037 to 15635605\n",
      "Data columns (total 6 columns):\n",
      " #   Column         Dtype \n",
      "---  ------         ----- \n",
      " 0   user_id        int64 \n",
      " 1   item_id        int64 \n",
      " 2   behavior_type  int64 \n",
      " 3   user_geohash   object\n",
      " 4   item_category  int64 \n",
      " 5   time           object\n",
      "dtypes: int64(4), object(2)\n",
      "memory usage: 248.8+ MB\n"
     ]
    }
   ],
   "source": [
    "df.info()"
   ]
  },
  {
   "cell_type": "code",
   "execution_count": 7,
   "metadata": {},
   "outputs": [
    {
     "data": {
      "text/plain": [
       "(4658205, 6)"
      ]
     },
     "execution_count": 7,
     "metadata": {},
     "output_type": "execute_result"
    }
   ],
   "source": [
    "df.shape"
   ]
  },
  {
   "cell_type": "code",
   "execution_count": 8,
   "metadata": {},
   "outputs": [
    {
     "data": {
      "text/plain": [
       "user_id                0\n",
       "item_id                0\n",
       "behavior_type          0\n",
       "user_geohash     3183000\n",
       "item_category          0\n",
       "time                   0\n",
       "dtype: int64"
      ]
     },
     "execution_count": 8,
     "metadata": {},
     "output_type": "execute_result"
    }
   ],
   "source": [
    "#查看各字段的缺失值数量\n",
    "df.isnull().sum()"
   ]
  },
  {
   "cell_type": "markdown",
   "metadata": {},
   "source": [
    "只有user_geohash有缺失值，且缺失的比例很高，无统计分析的意义，将此列删除"
   ]
  },
  {
   "cell_type": "code",
   "execution_count": 9,
   "metadata": {},
   "outputs": [],
   "source": [
    "df.drop('user_geohash',axis=1,inplace=True)"
   ]
  },
  {
   "cell_type": "code",
   "execution_count": 10,
   "metadata": {},
   "outputs": [
    {
     "data": {
      "text/html": [
       "<div>\n",
       "<style scoped>\n",
       "    .dataframe tbody tr th:only-of-type {\n",
       "        vertical-align: middle;\n",
       "    }\n",
       "\n",
       "    .dataframe tbody tr th {\n",
       "        vertical-align: top;\n",
       "    }\n",
       "\n",
       "    .dataframe thead th {\n",
       "        text-align: right;\n",
       "    }\n",
       "</style>\n",
       "<table border=\"1\" class=\"dataframe\">\n",
       "  <thead>\n",
       "    <tr style=\"text-align: right;\">\n",
       "      <th></th>\n",
       "      <th>user_id</th>\n",
       "      <th>item_id</th>\n",
       "      <th>behavior_type</th>\n",
       "      <th>item_category</th>\n",
       "      <th>time</th>\n",
       "    </tr>\n",
       "  </thead>\n",
       "  <tbody>\n",
       "    <tr>\n",
       "      <th>7945037</th>\n",
       "      <td>63995000</td>\n",
       "      <td>345504596</td>\n",
       "      <td>1</td>\n",
       "      <td>94</td>\n",
       "      <td>2014-12-02 19</td>\n",
       "    </tr>\n",
       "    <tr>\n",
       "      <th>3482145</th>\n",
       "      <td>141227570</td>\n",
       "      <td>82518209</td>\n",
       "      <td>1</td>\n",
       "      <td>5232</td>\n",
       "      <td>2014-11-28 16</td>\n",
       "    </tr>\n",
       "    <tr>\n",
       "      <th>15812704</th>\n",
       "      <td>104574739</td>\n",
       "      <td>119762923</td>\n",
       "      <td>1</td>\n",
       "      <td>10392</td>\n",
       "      <td>2014-11-20 21</td>\n",
       "    </tr>\n",
       "    <tr>\n",
       "      <th>16417944</th>\n",
       "      <td>112700668</td>\n",
       "      <td>339260891</td>\n",
       "      <td>1</td>\n",
       "      <td>6000</td>\n",
       "      <td>2014-12-01 12</td>\n",
       "    </tr>\n",
       "    <tr>\n",
       "      <th>22276947</th>\n",
       "      <td>53139833</td>\n",
       "      <td>143404263</td>\n",
       "      <td>1</td>\n",
       "      <td>9835</td>\n",
       "      <td>2014-11-20 22</td>\n",
       "    </tr>\n",
       "  </tbody>\n",
       "</table>\n",
       "</div>"
      ],
      "text/plain": [
       "            user_id    item_id  behavior_type  item_category           time\n",
       "7945037    63995000  345504596              1             94  2014-12-02 19\n",
       "3482145   141227570   82518209              1           5232  2014-11-28 16\n",
       "15812704  104574739  119762923              1          10392  2014-11-20 21\n",
       "16417944  112700668  339260891              1           6000  2014-12-01 12\n",
       "22276947   53139833  143404263              1           9835  2014-11-20 22"
      ]
     },
     "execution_count": 10,
     "metadata": {},
     "output_type": "execute_result"
    }
   ],
   "source": [
    "df.head()"
   ]
  },
  {
   "cell_type": "markdown",
   "metadata": {},
   "source": [
    "## 日期与时段处理"
   ]
  },
  {
   "cell_type": "code",
   "execution_count": 11,
   "metadata": {},
   "outputs": [],
   "source": [
    "#将time字段拆分为日期、星期、时段\n",
    "df['date']=df['time'].str[0:10]\n",
    "df['date'] = pd.to_datetime(df['date'],format='%Y-%m-%d')\n",
    "df['week'] = df['date'].apply(lambda x : x.weekday()+1)\n",
    "df['time'] = df['time'].str[11:]\n",
    "df['time'] = df['time'].astype(int)"
   ]
  },
  {
   "cell_type": "code",
   "execution_count": 12,
   "metadata": {},
   "outputs": [],
   "source": [
    "#将时段分为'凌晨'、'上午'、'中午'、'下午'、'晚上'\n",
    "df['hour'] = pd.cut(df['time'],bins=[-1,5,10,13,18,24],labels=['凌晨','上午','中午','下午','晚上'])"
   ]
  },
  {
   "cell_type": "code",
   "execution_count": 13,
   "metadata": {},
   "outputs": [
    {
     "data": {
      "text/html": [
       "<div>\n",
       "<style scoped>\n",
       "    .dataframe tbody tr th:only-of-type {\n",
       "        vertical-align: middle;\n",
       "    }\n",
       "\n",
       "    .dataframe tbody tr th {\n",
       "        vertical-align: top;\n",
       "    }\n",
       "\n",
       "    .dataframe thead th {\n",
       "        text-align: right;\n",
       "    }\n",
       "</style>\n",
       "<table border=\"1\" class=\"dataframe\">\n",
       "  <thead>\n",
       "    <tr style=\"text-align: right;\">\n",
       "      <th></th>\n",
       "      <th>user_id</th>\n",
       "      <th>item_id</th>\n",
       "      <th>behavior_type</th>\n",
       "      <th>item_category</th>\n",
       "      <th>time</th>\n",
       "      <th>date</th>\n",
       "      <th>week</th>\n",
       "      <th>hour</th>\n",
       "    </tr>\n",
       "  </thead>\n",
       "  <tbody>\n",
       "    <tr>\n",
       "      <th>7945037</th>\n",
       "      <td>63995000</td>\n",
       "      <td>345504596</td>\n",
       "      <td>1</td>\n",
       "      <td>94</td>\n",
       "      <td>19</td>\n",
       "      <td>2014-12-02</td>\n",
       "      <td>2</td>\n",
       "      <td>晚上</td>\n",
       "    </tr>\n",
       "    <tr>\n",
       "      <th>3482145</th>\n",
       "      <td>141227570</td>\n",
       "      <td>82518209</td>\n",
       "      <td>1</td>\n",
       "      <td>5232</td>\n",
       "      <td>16</td>\n",
       "      <td>2014-11-28</td>\n",
       "      <td>5</td>\n",
       "      <td>下午</td>\n",
       "    </tr>\n",
       "    <tr>\n",
       "      <th>15812704</th>\n",
       "      <td>104574739</td>\n",
       "      <td>119762923</td>\n",
       "      <td>1</td>\n",
       "      <td>10392</td>\n",
       "      <td>21</td>\n",
       "      <td>2014-11-20</td>\n",
       "      <td>4</td>\n",
       "      <td>晚上</td>\n",
       "    </tr>\n",
       "    <tr>\n",
       "      <th>16417944</th>\n",
       "      <td>112700668</td>\n",
       "      <td>339260891</td>\n",
       "      <td>1</td>\n",
       "      <td>6000</td>\n",
       "      <td>12</td>\n",
       "      <td>2014-12-01</td>\n",
       "      <td>1</td>\n",
       "      <td>中午</td>\n",
       "    </tr>\n",
       "    <tr>\n",
       "      <th>22276947</th>\n",
       "      <td>53139833</td>\n",
       "      <td>143404263</td>\n",
       "      <td>1</td>\n",
       "      <td>9835</td>\n",
       "      <td>22</td>\n",
       "      <td>2014-11-20</td>\n",
       "      <td>4</td>\n",
       "      <td>晚上</td>\n",
       "    </tr>\n",
       "  </tbody>\n",
       "</table>\n",
       "</div>"
      ],
      "text/plain": [
       "            user_id    item_id  behavior_type  item_category  time       date  \\\n",
       "7945037    63995000  345504596              1             94    19 2014-12-02   \n",
       "3482145   141227570   82518209              1           5232    16 2014-11-28   \n",
       "15812704  104574739  119762923              1          10392    21 2014-11-20   \n",
       "16417944  112700668  339260891              1           6000    12 2014-12-01   \n",
       "22276947   53139833  143404263              1           9835    22 2014-11-20   \n",
       "\n",
       "          week hour  \n",
       "7945037      2   晚上  \n",
       "3482145      5   下午  \n",
       "15812704     4   晚上  \n",
       "16417944     1   中午  \n",
       "22276947     4   晚上  "
      ]
     },
     "execution_count": 13,
     "metadata": {},
     "output_type": "execute_result"
    }
   ],
   "source": [
    "df.head()"
   ]
  },
  {
   "cell_type": "markdown",
   "metadata": {},
   "source": [
    "## 制作用户标签表"
   ]
  },
  {
   "cell_type": "code",
   "execution_count": 14,
   "metadata": {},
   "outputs": [],
   "source": [
    "#生成用户标签表，制作好的标签都加入这个表中\n",
    "users = df['user_id'].unique()\n",
    "labels = pd.DataFrame(users,columns=['user_id'])"
   ]
  },
  {
   "cell_type": "markdown",
   "metadata": {},
   "source": [
    "## 一、用户行为标签"
   ]
  },
  {
   "cell_type": "markdown",
   "metadata": {},
   "source": [
    "### 用户浏览活跃时间段"
   ]
  },
  {
   "cell_type": "code",
   "execution_count": 15,
   "metadata": {},
   "outputs": [],
   "source": [
    "#对用户和时段分组，统计浏览次数\n",
    "time_browse = df[df['behavior_type']==1].groupby(['user_id','hour']).item_id.count().reset_index()"
   ]
  },
  {
   "cell_type": "code",
   "execution_count": 16,
   "metadata": {},
   "outputs": [
    {
     "data": {
      "text/html": [
       "<div>\n",
       "<style scoped>\n",
       "    .dataframe tbody tr th:only-of-type {\n",
       "        vertical-align: middle;\n",
       "    }\n",
       "\n",
       "    .dataframe tbody tr th {\n",
       "        vertical-align: top;\n",
       "    }\n",
       "\n",
       "    .dataframe thead th {\n",
       "        text-align: right;\n",
       "    }\n",
       "</style>\n",
       "<table border=\"1\" class=\"dataframe\">\n",
       "  <thead>\n",
       "    <tr style=\"text-align: right;\">\n",
       "      <th></th>\n",
       "      <th>user_id</th>\n",
       "      <th>hour</th>\n",
       "      <th>item_id</th>\n",
       "    </tr>\n",
       "  </thead>\n",
       "  <tbody>\n",
       "    <tr>\n",
       "      <th>0</th>\n",
       "      <td>492</td>\n",
       "      <td>凌晨</td>\n",
       "      <td>0</td>\n",
       "    </tr>\n",
       "    <tr>\n",
       "      <th>1</th>\n",
       "      <td>492</td>\n",
       "      <td>上午</td>\n",
       "      <td>6</td>\n",
       "    </tr>\n",
       "    <tr>\n",
       "      <th>2</th>\n",
       "      <td>492</td>\n",
       "      <td>中午</td>\n",
       "      <td>8</td>\n",
       "    </tr>\n",
       "    <tr>\n",
       "      <th>3</th>\n",
       "      <td>492</td>\n",
       "      <td>下午</td>\n",
       "      <td>8</td>\n",
       "    </tr>\n",
       "    <tr>\n",
       "      <th>4</th>\n",
       "      <td>492</td>\n",
       "      <td>晚上</td>\n",
       "      <td>29</td>\n",
       "    </tr>\n",
       "    <tr>\n",
       "      <th>5</th>\n",
       "      <td>3726</td>\n",
       "      <td>凌晨</td>\n",
       "      <td>0</td>\n",
       "    </tr>\n",
       "    <tr>\n",
       "      <th>6</th>\n",
       "      <td>3726</td>\n",
       "      <td>上午</td>\n",
       "      <td>1</td>\n",
       "    </tr>\n",
       "    <tr>\n",
       "      <th>7</th>\n",
       "      <td>3726</td>\n",
       "      <td>中午</td>\n",
       "      <td>11</td>\n",
       "    </tr>\n",
       "    <tr>\n",
       "      <th>8</th>\n",
       "      <td>3726</td>\n",
       "      <td>下午</td>\n",
       "      <td>25</td>\n",
       "    </tr>\n",
       "    <tr>\n",
       "      <th>9</th>\n",
       "      <td>3726</td>\n",
       "      <td>晚上</td>\n",
       "      <td>41</td>\n",
       "    </tr>\n",
       "  </tbody>\n",
       "</table>\n",
       "</div>"
      ],
      "text/plain": [
       "   user_id hour  item_id\n",
       "0      492   凌晨        0\n",
       "1      492   上午        6\n",
       "2      492   中午        8\n",
       "3      492   下午        8\n",
       "4      492   晚上       29\n",
       "5     3726   凌晨        0\n",
       "6     3726   上午        1\n",
       "7     3726   中午       11\n",
       "8     3726   下午       25\n",
       "9     3726   晚上       41"
      ]
     },
     "execution_count": 16,
     "metadata": {},
     "output_type": "execute_result"
    }
   ],
   "source": [
    "time_browse.head(10)"
   ]
  },
  {
   "cell_type": "code",
   "execution_count": 17,
   "metadata": {},
   "outputs": [],
   "source": [
    "time_browse.rename(columns={'item_id':'hour_counts'},inplace=True)"
   ]
  },
  {
   "cell_type": "code",
   "execution_count": 18,
   "metadata": {},
   "outputs": [],
   "source": [
    "#统计每个用户浏览次数最多的时段\n",
    "time_browse_max = time_browse.groupby('user_id').hour_counts.max().reset_index()"
   ]
  },
  {
   "cell_type": "code",
   "execution_count": 19,
   "metadata": {},
   "outputs": [],
   "source": [
    "time_browse_max.rename(columns={'hour_counts':'read_counts_max'},inplace=True)"
   ]
  },
  {
   "cell_type": "code",
   "execution_count": 20,
   "metadata": {},
   "outputs": [],
   "source": [
    "time_browse=pd.merge(time_browse,time_browse_max,how='left',on='user_id')"
   ]
  },
  {
   "cell_type": "code",
   "execution_count": 21,
   "metadata": {},
   "outputs": [
    {
     "data": {
      "text/plain": [
       "user_id\n",
       "492          晚上\n",
       "3726         晚上\n",
       "19137        晚上\n",
       "36465        中午\n",
       "37101        下午\n",
       "             ..\n",
       "142427508    晚上\n",
       "142432272    晚上\n",
       "142439559    晚上\n",
       "142440276    下午\n",
       "142442955    晚上\n",
       "Name: hour, Length: 19956, dtype: object"
      ]
     },
     "execution_count": 21,
     "metadata": {},
     "output_type": "execute_result"
    }
   ],
   "source": [
    "time_browse.loc[time_browse['hour_counts']==time_browse['read_counts_max'],'hour'].groupby(time_browse['user_id']).aggregate(lambda x:','.join(x))"
   ]
  },
  {
   "cell_type": "code",
   "execution_count": 22,
   "metadata": {},
   "outputs": [],
   "source": [
    "#选取各用户浏览次数最多的时段，如有并列最多的时段，用逗号连接\n",
    "time_browse_hour = time_browse.loc[time_browse['hour_counts']==time_browse['read_counts_max'],'hour'].groupby(time_browse['user_id']).aggregate(lambda x:','.join(x)).reset_index()"
   ]
  },
  {
   "cell_type": "code",
   "execution_count": 23,
   "metadata": {},
   "outputs": [
    {
     "data": {
      "text/html": [
       "<div>\n",
       "<style scoped>\n",
       "    .dataframe tbody tr th:only-of-type {\n",
       "        vertical-align: middle;\n",
       "    }\n",
       "\n",
       "    .dataframe tbody tr th {\n",
       "        vertical-align: top;\n",
       "    }\n",
       "\n",
       "    .dataframe thead th {\n",
       "        text-align: right;\n",
       "    }\n",
       "</style>\n",
       "<table border=\"1\" class=\"dataframe\">\n",
       "  <thead>\n",
       "    <tr style=\"text-align: right;\">\n",
       "      <th></th>\n",
       "      <th>user_id</th>\n",
       "      <th>hour</th>\n",
       "    </tr>\n",
       "  </thead>\n",
       "  <tbody>\n",
       "    <tr>\n",
       "      <th>0</th>\n",
       "      <td>492</td>\n",
       "      <td>晚上</td>\n",
       "    </tr>\n",
       "    <tr>\n",
       "      <th>1</th>\n",
       "      <td>3726</td>\n",
       "      <td>晚上</td>\n",
       "    </tr>\n",
       "    <tr>\n",
       "      <th>2</th>\n",
       "      <td>19137</td>\n",
       "      <td>晚上</td>\n",
       "    </tr>\n",
       "    <tr>\n",
       "      <th>3</th>\n",
       "      <td>36465</td>\n",
       "      <td>中午</td>\n",
       "    </tr>\n",
       "    <tr>\n",
       "      <th>4</th>\n",
       "      <td>37101</td>\n",
       "      <td>下午</td>\n",
       "    </tr>\n",
       "  </tbody>\n",
       "</table>\n",
       "</div>"
      ],
      "text/plain": [
       "   user_id hour\n",
       "0      492   晚上\n",
       "1     3726   晚上\n",
       "2    19137   晚上\n",
       "3    36465   中午\n",
       "4    37101   下午"
      ]
     },
     "execution_count": 23,
     "metadata": {},
     "output_type": "execute_result"
    }
   ],
   "source": [
    "time_browse_hour.head()"
   ]
  },
  {
   "cell_type": "code",
   "execution_count": 24,
   "metadata": {},
   "outputs": [],
   "source": [
    "#将用户浏览活跃时间段加入到用户标签表中\n",
    "labels = pd.merge(labels,time_browse_hour,how='left',on='user_id')\n",
    "labels.rename(columns={'hour':'time_browse'},inplace=True)"
   ]
  },
  {
   "cell_type": "code",
   "execution_count": 25,
   "metadata": {},
   "outputs": [
    {
     "data": {
      "text/html": [
       "<div>\n",
       "<style scoped>\n",
       "    .dataframe tbody tr th:only-of-type {\n",
       "        vertical-align: middle;\n",
       "    }\n",
       "\n",
       "    .dataframe tbody tr th {\n",
       "        vertical-align: top;\n",
       "    }\n",
       "\n",
       "    .dataframe thead th {\n",
       "        text-align: right;\n",
       "    }\n",
       "</style>\n",
       "<table border=\"1\" class=\"dataframe\">\n",
       "  <thead>\n",
       "    <tr style=\"text-align: right;\">\n",
       "      <th></th>\n",
       "      <th>user_id</th>\n",
       "      <th>time_browse</th>\n",
       "    </tr>\n",
       "  </thead>\n",
       "  <tbody>\n",
       "    <tr>\n",
       "      <th>0</th>\n",
       "      <td>63995000</td>\n",
       "      <td>晚上</td>\n",
       "    </tr>\n",
       "    <tr>\n",
       "      <th>1</th>\n",
       "      <td>141227570</td>\n",
       "      <td>下午</td>\n",
       "    </tr>\n",
       "    <tr>\n",
       "      <th>2</th>\n",
       "      <td>104574739</td>\n",
       "      <td>晚上</td>\n",
       "    </tr>\n",
       "    <tr>\n",
       "      <th>3</th>\n",
       "      <td>112700668</td>\n",
       "      <td>晚上</td>\n",
       "    </tr>\n",
       "    <tr>\n",
       "      <th>4</th>\n",
       "      <td>53139833</td>\n",
       "      <td>晚上</td>\n",
       "    </tr>\n",
       "    <tr>\n",
       "      <th>5</th>\n",
       "      <td>101490976</td>\n",
       "      <td>下午</td>\n",
       "    </tr>\n",
       "    <tr>\n",
       "      <th>6</th>\n",
       "      <td>120019864</td>\n",
       "      <td>晚上</td>\n",
       "    </tr>\n",
       "    <tr>\n",
       "      <th>7</th>\n",
       "      <td>134463810</td>\n",
       "      <td>下午</td>\n",
       "    </tr>\n",
       "    <tr>\n",
       "      <th>8</th>\n",
       "      <td>111037423</td>\n",
       "      <td>晚上</td>\n",
       "    </tr>\n",
       "    <tr>\n",
       "      <th>9</th>\n",
       "      <td>55358033</td>\n",
       "      <td>下午</td>\n",
       "    </tr>\n",
       "  </tbody>\n",
       "</table>\n",
       "</div>"
      ],
      "text/plain": [
       "     user_id time_browse\n",
       "0   63995000          晚上\n",
       "1  141227570          下午\n",
       "2  104574739          晚上\n",
       "3  112700668          晚上\n",
       "4   53139833          晚上\n",
       "5  101490976          下午\n",
       "6  120019864          晚上\n",
       "7  134463810          下午\n",
       "8  111037423          晚上\n",
       "9   55358033          下午"
      ]
     },
     "execution_count": 25,
     "metadata": {},
     "output_type": "execute_result"
    }
   ],
   "source": [
    "labels.head(10)"
   ]
  },
  {
   "cell_type": "code",
   "execution_count": 34,
   "metadata": {},
   "outputs": [
    {
     "name": "stdout",
     "output_type": "stream",
     "text": [
      "<class 'pandas.core.frame.DataFrame'>\n",
      "Int64Index: 19960 entries, 0 to 19959\n",
      "Data columns (total 2 columns):\n",
      " #   Column       Non-Null Count  Dtype \n",
      "---  ------       --------------  ----- \n",
      " 0   user_id      19960 non-null  int64 \n",
      " 1   time_browse  19956 non-null  object\n",
      "dtypes: int64(1), object(1)\n",
      "memory usage: 467.8+ KB\n"
     ]
    }
   ],
   "source": [
    "labels.info()"
   ]
  },
  {
   "cell_type": "markdown",
   "metadata": {},
   "source": [
    "### 用户购买活跃时间段"
   ]
  },
  {
   "cell_type": "code",
   "execution_count": 37,
   "metadata": {},
   "outputs": [],
   "source": [
    "#生成逻辑与浏览活跃时间段相同\n",
    "time_buy = df[df['behavior_type']==4].groupby(['user_id','hour']).item_id.count().reset_index()\n",
    "time_buy.rename(columns={'item_id':'hour_counts'},inplace=True)\n",
    "time_buy_max = time_buy.groupby('user_id').hour_counts.max().reset_index()\n",
    "time_buy_max.rename(columns={'hour_counts':'buy_counts_max'},inplace=True)\n",
    "time_buy = pd.merge(time_buy,time_buy_max,how='left',on='user_id')\n",
    "time_buy_hour = time_buy.loc[time_buy['hour_counts']==time_buy['buy_counts_max'],['hour','user_id']].groupby(time_buy['user_id']).aggregate(lambda x:','.join(x)).reset_index()"
   ]
  },
  {
   "cell_type": "code",
   "execution_count": 38,
   "metadata": {
    "scrolled": true
   },
   "outputs": [
    {
     "data": {
      "text/html": [
       "<div>\n",
       "<style scoped>\n",
       "    .dataframe tbody tr th:only-of-type {\n",
       "        vertical-align: middle;\n",
       "    }\n",
       "\n",
       "    .dataframe tbody tr th {\n",
       "        vertical-align: top;\n",
       "    }\n",
       "\n",
       "    .dataframe thead th {\n",
       "        text-align: right;\n",
       "    }\n",
       "</style>\n",
       "<table border=\"1\" class=\"dataframe\">\n",
       "  <thead>\n",
       "    <tr style=\"text-align: right;\">\n",
       "      <th></th>\n",
       "      <th>user_id</th>\n",
       "      <th>hour</th>\n",
       "    </tr>\n",
       "  </thead>\n",
       "  <tbody>\n",
       "    <tr>\n",
       "      <th>0</th>\n",
       "      <td>37101</td>\n",
       "      <td>中午</td>\n",
       "    </tr>\n",
       "    <tr>\n",
       "      <th>1</th>\n",
       "      <td>38745</td>\n",
       "      <td>中午</td>\n",
       "    </tr>\n",
       "    <tr>\n",
       "      <th>2</th>\n",
       "      <td>45561</td>\n",
       "      <td>上午,中午</td>\n",
       "    </tr>\n",
       "    <tr>\n",
       "      <th>3</th>\n",
       "      <td>59436</td>\n",
       "      <td>晚上</td>\n",
       "    </tr>\n",
       "    <tr>\n",
       "      <th>4</th>\n",
       "      <td>100605</td>\n",
       "      <td>凌晨</td>\n",
       "    </tr>\n",
       "  </tbody>\n",
       "</table>\n",
       "</div>"
      ],
      "text/plain": [
       "   user_id   hour\n",
       "0    37101     中午\n",
       "1    38745     中午\n",
       "2    45561  上午,中午\n",
       "3    59436     晚上\n",
       "4   100605     凌晨"
      ]
     },
     "execution_count": 38,
     "metadata": {},
     "output_type": "execute_result"
    }
   ],
   "source": [
    "time_buy_hour.head()"
   ]
  },
  {
   "cell_type": "code",
   "execution_count": 41,
   "metadata": {},
   "outputs": [],
   "source": [
    "#将用户购买活跃时间段加入到用户标签表中\n",
    "labels = pd.merge(labels,time_buy_hour,how='left',on='user_id')\n",
    "labels.rename(columns={'hour':'time_buy'},inplace=True)"
   ]
  },
  {
   "cell_type": "code",
   "execution_count": 44,
   "metadata": {},
   "outputs": [
    {
     "data": {
      "text/html": [
       "<div>\n",
       "<style scoped>\n",
       "    .dataframe tbody tr th:only-of-type {\n",
       "        vertical-align: middle;\n",
       "    }\n",
       "\n",
       "    .dataframe tbody tr th {\n",
       "        vertical-align: top;\n",
       "    }\n",
       "\n",
       "    .dataframe thead th {\n",
       "        text-align: right;\n",
       "    }\n",
       "</style>\n",
       "<table border=\"1\" class=\"dataframe\">\n",
       "  <thead>\n",
       "    <tr style=\"text-align: right;\">\n",
       "      <th></th>\n",
       "      <th>user_id</th>\n",
       "      <th>time_browse</th>\n",
       "      <th>time_buy</th>\n",
       "    </tr>\n",
       "  </thead>\n",
       "  <tbody>\n",
       "    <tr>\n",
       "      <th>0</th>\n",
       "      <td>63995000</td>\n",
       "      <td>晚上</td>\n",
       "      <td>晚上</td>\n",
       "    </tr>\n",
       "    <tr>\n",
       "      <th>1</th>\n",
       "      <td>141227570</td>\n",
       "      <td>下午</td>\n",
       "      <td>上午</td>\n",
       "    </tr>\n",
       "    <tr>\n",
       "      <th>2</th>\n",
       "      <td>104574739</td>\n",
       "      <td>晚上</td>\n",
       "      <td>中午</td>\n",
       "    </tr>\n",
       "    <tr>\n",
       "      <th>3</th>\n",
       "      <td>112700668</td>\n",
       "      <td>晚上</td>\n",
       "      <td>下午</td>\n",
       "    </tr>\n",
       "    <tr>\n",
       "      <th>4</th>\n",
       "      <td>53139833</td>\n",
       "      <td>晚上</td>\n",
       "      <td>下午,晚上</td>\n",
       "    </tr>\n",
       "  </tbody>\n",
       "</table>\n",
       "</div>"
      ],
      "text/plain": [
       "     user_id time_browse time_buy\n",
       "0   63995000          晚上       晚上\n",
       "1  141227570          下午       上午\n",
       "2  104574739          晚上       中午\n",
       "3  112700668          晚上       下午\n",
       "4   53139833          晚上    下午,晚上"
      ]
     },
     "execution_count": 44,
     "metadata": {},
     "output_type": "execute_result"
    }
   ],
   "source": [
    "labels.head()"
   ]
  },
  {
   "cell_type": "code",
   "execution_count": 45,
   "metadata": {},
   "outputs": [
    {
     "data": {
      "text/plain": [
       "0"
      ]
     },
     "execution_count": 45,
     "metadata": {},
     "output_type": "execute_result"
    }
   ],
   "source": [
    "del time_browse\n",
    "del time_buy\n",
    "del time_browse_hour\n",
    "del time_browse_max\n",
    "del time_buy_hour\n",
    "del time_buy_max\n",
    "gc.collect()"
   ]
  },
  {
   "cell_type": "markdown",
   "metadata": {},
   "source": [
    "### 用户倾向周几浏览"
   ]
  },
  {
   "cell_type": "code",
   "execution_count": 46,
   "metadata": {},
   "outputs": [],
   "source": [
    "week_browse=df[df['behavior_type']==1].groupby(['user_id','week']).item_id.count().reset_index()\n",
    "week_browse.rename(columns={'item_id':'week_counts'},inplace=True)\n",
    "week_browse_max = week_browse.groupby('user_id').week_counts.max().reset_index()\n",
    "week_browse_max.rename(columns={'week_counts':'week_counts_max'},inplace=True)\n",
    "week_browse = pd.merge(week_browse,week_browse_max,how='left',on='user_id')"
   ]
  },
  {
   "cell_type": "code",
   "execution_count": 47,
   "metadata": {},
   "outputs": [],
   "source": [
    "week_browse['week']=week_browse['week'].astype(str)\n",
    "week_browse_date=week_browse.loc[week_browse['week_counts']==week_browse['week_counts_max'],'week'].groupby(week_browse['user_id']).aggregate(lambda x:','.join(x)).reset_index()"
   ]
  },
  {
   "cell_type": "code",
   "execution_count": 48,
   "metadata": {
    "scrolled": true
   },
   "outputs": [
    {
     "data": {
      "text/html": [
       "<div>\n",
       "<style scoped>\n",
       "    .dataframe tbody tr th:only-of-type {\n",
       "        vertical-align: middle;\n",
       "    }\n",
       "\n",
       "    .dataframe tbody tr th {\n",
       "        vertical-align: top;\n",
       "    }\n",
       "\n",
       "    .dataframe thead th {\n",
       "        text-align: right;\n",
       "    }\n",
       "</style>\n",
       "<table border=\"1\" class=\"dataframe\">\n",
       "  <thead>\n",
       "    <tr style=\"text-align: right;\">\n",
       "      <th></th>\n",
       "      <th>user_id</th>\n",
       "      <th>week</th>\n",
       "    </tr>\n",
       "  </thead>\n",
       "  <tbody>\n",
       "    <tr>\n",
       "      <th>0</th>\n",
       "      <td>492</td>\n",
       "      <td>7</td>\n",
       "    </tr>\n",
       "    <tr>\n",
       "      <th>1</th>\n",
       "      <td>3726</td>\n",
       "      <td>3</td>\n",
       "    </tr>\n",
       "    <tr>\n",
       "      <th>2</th>\n",
       "      <td>19137</td>\n",
       "      <td>6</td>\n",
       "    </tr>\n",
       "    <tr>\n",
       "      <th>3</th>\n",
       "      <td>36465</td>\n",
       "      <td>3,5</td>\n",
       "    </tr>\n",
       "    <tr>\n",
       "      <th>4</th>\n",
       "      <td>37101</td>\n",
       "      <td>2</td>\n",
       "    </tr>\n",
       "    <tr>\n",
       "      <th>5</th>\n",
       "      <td>38745</td>\n",
       "      <td>3</td>\n",
       "    </tr>\n",
       "    <tr>\n",
       "      <th>6</th>\n",
       "      <td>45561</td>\n",
       "      <td>2</td>\n",
       "    </tr>\n",
       "    <tr>\n",
       "      <th>7</th>\n",
       "      <td>53394</td>\n",
       "      <td>5</td>\n",
       "    </tr>\n",
       "    <tr>\n",
       "      <th>8</th>\n",
       "      <td>59436</td>\n",
       "      <td>5</td>\n",
       "    </tr>\n",
       "    <tr>\n",
       "      <th>9</th>\n",
       "      <td>60552</td>\n",
       "      <td>6</td>\n",
       "    </tr>\n",
       "  </tbody>\n",
       "</table>\n",
       "</div>"
      ],
      "text/plain": [
       "   user_id week\n",
       "0      492    7\n",
       "1     3726    3\n",
       "2    19137    6\n",
       "3    36465  3,5\n",
       "4    37101    2\n",
       "5    38745    3\n",
       "6    45561    2\n",
       "7    53394    5\n",
       "8    59436    5\n",
       "9    60552    6"
      ]
     },
     "execution_count": 48,
     "metadata": {},
     "output_type": "execute_result"
    }
   ],
   "source": [
    "week_browse_date.head(10)"
   ]
  },
  {
   "cell_type": "code",
   "execution_count": 50,
   "metadata": {},
   "outputs": [],
   "source": [
    "#将用户倾向周几浏览段加入到用户标签表中\n",
    "labels = pd.merge(labels,week_browse_date,how='left',on='user_id')\n",
    "labels.rename(columns={'week':'week_browse'},inplace=True)"
   ]
  },
  {
   "cell_type": "code",
   "execution_count": 51,
   "metadata": {},
   "outputs": [
    {
     "data": {
      "text/html": [
       "<div>\n",
       "<style scoped>\n",
       "    .dataframe tbody tr th:only-of-type {\n",
       "        vertical-align: middle;\n",
       "    }\n",
       "\n",
       "    .dataframe tbody tr th {\n",
       "        vertical-align: top;\n",
       "    }\n",
       "\n",
       "    .dataframe thead th {\n",
       "        text-align: right;\n",
       "    }\n",
       "</style>\n",
       "<table border=\"1\" class=\"dataframe\">\n",
       "  <thead>\n",
       "    <tr style=\"text-align: right;\">\n",
       "      <th></th>\n",
       "      <th>user_id</th>\n",
       "      <th>time_browse</th>\n",
       "      <th>time_buy</th>\n",
       "      <th>week_browse</th>\n",
       "    </tr>\n",
       "  </thead>\n",
       "  <tbody>\n",
       "    <tr>\n",
       "      <th>0</th>\n",
       "      <td>63995000</td>\n",
       "      <td>晚上</td>\n",
       "      <td>晚上</td>\n",
       "      <td>7</td>\n",
       "    </tr>\n",
       "    <tr>\n",
       "      <th>1</th>\n",
       "      <td>141227570</td>\n",
       "      <td>下午</td>\n",
       "      <td>上午</td>\n",
       "      <td>3</td>\n",
       "    </tr>\n",
       "    <tr>\n",
       "      <th>2</th>\n",
       "      <td>104574739</td>\n",
       "      <td>晚上</td>\n",
       "      <td>中午</td>\n",
       "      <td>2</td>\n",
       "    </tr>\n",
       "    <tr>\n",
       "      <th>3</th>\n",
       "      <td>112700668</td>\n",
       "      <td>晚上</td>\n",
       "      <td>下午</td>\n",
       "      <td>1</td>\n",
       "    </tr>\n",
       "    <tr>\n",
       "      <th>4</th>\n",
       "      <td>53139833</td>\n",
       "      <td>晚上</td>\n",
       "      <td>下午,晚上</td>\n",
       "      <td>7</td>\n",
       "    </tr>\n",
       "  </tbody>\n",
       "</table>\n",
       "</div>"
      ],
      "text/plain": [
       "     user_id time_browse time_buy week_browse\n",
       "0   63995000          晚上       晚上           7\n",
       "1  141227570          下午       上午           3\n",
       "2  104574739          晚上       中午           2\n",
       "3  112700668          晚上       下午           1\n",
       "4   53139833          晚上    下午,晚上           7"
      ]
     },
     "execution_count": 51,
     "metadata": {},
     "output_type": "execute_result"
    }
   ],
   "source": [
    "labels.head()"
   ]
  },
  {
   "cell_type": "markdown",
   "metadata": {},
   "source": [
    "### 用户倾向周几购买"
   ]
  },
  {
   "cell_type": "code",
   "execution_count": 52,
   "metadata": {},
   "outputs": [],
   "source": [
    "week_buy=df[df['behavior_type']==4].groupby(['user_id','week']).item_id.count().reset_index()\n",
    "week_buy.rename(columns={'item_id':'week_counts'},inplace=True)\n",
    "week_buy_max = week_buy.groupby('user_id').week_counts.max().reset_index()\n",
    "week_buy_max.rename(columns={'week_counts':'week_counts_max'},inplace=True)\n",
    "week_buy = pd.merge(week_buy,week_buy_max,how='left',on='user_id')\n",
    "week_buy['week']=week_buy['week'].astype(str)\n",
    "week_buy_date=week_buy.loc[week_buy['week_counts']==week_buy['week_counts_max'],'week'].groupby(week_buy['user_id']).aggregate(lambda x:','.join(x)).reset_index()"
   ]
  },
  {
   "cell_type": "code",
   "execution_count": 53,
   "metadata": {
    "scrolled": true
   },
   "outputs": [
    {
     "data": {
      "text/html": [
       "<div>\n",
       "<style scoped>\n",
       "    .dataframe tbody tr th:only-of-type {\n",
       "        vertical-align: middle;\n",
       "    }\n",
       "\n",
       "    .dataframe tbody tr th {\n",
       "        vertical-align: top;\n",
       "    }\n",
       "\n",
       "    .dataframe thead th {\n",
       "        text-align: right;\n",
       "    }\n",
       "</style>\n",
       "<table border=\"1\" class=\"dataframe\">\n",
       "  <thead>\n",
       "    <tr style=\"text-align: right;\">\n",
       "      <th></th>\n",
       "      <th>user_id</th>\n",
       "      <th>week</th>\n",
       "    </tr>\n",
       "  </thead>\n",
       "  <tbody>\n",
       "    <tr>\n",
       "      <th>0</th>\n",
       "      <td>37101</td>\n",
       "      <td>5</td>\n",
       "    </tr>\n",
       "    <tr>\n",
       "      <th>1</th>\n",
       "      <td>38745</td>\n",
       "      <td>3</td>\n",
       "    </tr>\n",
       "    <tr>\n",
       "      <th>2</th>\n",
       "      <td>45561</td>\n",
       "      <td>5,6</td>\n",
       "    </tr>\n",
       "    <tr>\n",
       "      <th>3</th>\n",
       "      <td>59436</td>\n",
       "      <td>4,5</td>\n",
       "    </tr>\n",
       "    <tr>\n",
       "      <th>4</th>\n",
       "      <td>100605</td>\n",
       "      <td>5</td>\n",
       "    </tr>\n",
       "    <tr>\n",
       "      <th>5</th>\n",
       "      <td>100890</td>\n",
       "      <td>3</td>\n",
       "    </tr>\n",
       "    <tr>\n",
       "      <th>6</th>\n",
       "      <td>106362</td>\n",
       "      <td>2</td>\n",
       "    </tr>\n",
       "    <tr>\n",
       "      <th>7</th>\n",
       "      <td>131694</td>\n",
       "      <td>4,7</td>\n",
       "    </tr>\n",
       "    <tr>\n",
       "      <th>8</th>\n",
       "      <td>134211</td>\n",
       "      <td>1</td>\n",
       "    </tr>\n",
       "    <tr>\n",
       "      <th>9</th>\n",
       "      <td>137907</td>\n",
       "      <td>7</td>\n",
       "    </tr>\n",
       "  </tbody>\n",
       "</table>\n",
       "</div>"
      ],
      "text/plain": [
       "   user_id week\n",
       "0    37101    5\n",
       "1    38745    3\n",
       "2    45561  5,6\n",
       "3    59436  4,5\n",
       "4   100605    5\n",
       "5   100890    3\n",
       "6   106362    2\n",
       "7   131694  4,7\n",
       "8   134211    1\n",
       "9   137907    7"
      ]
     },
     "execution_count": 53,
     "metadata": {},
     "output_type": "execute_result"
    }
   ],
   "source": [
    "week_buy_date.head(10)"
   ]
  },
  {
   "cell_type": "code",
   "execution_count": 55,
   "metadata": {},
   "outputs": [],
   "source": [
    "#将用户倾向周几购买段加入到用户标签表中\n",
    "labels = pd.merge(labels,week_buy_date,how='left',on='user_id')\n",
    "labels.rename(columns={'week':'week_buy'},inplace=True)"
   ]
  },
  {
   "cell_type": "code",
   "execution_count": 56,
   "metadata": {},
   "outputs": [
    {
     "data": {
      "text/html": [
       "<div>\n",
       "<style scoped>\n",
       "    .dataframe tbody tr th:only-of-type {\n",
       "        vertical-align: middle;\n",
       "    }\n",
       "\n",
       "    .dataframe tbody tr th {\n",
       "        vertical-align: top;\n",
       "    }\n",
       "\n",
       "    .dataframe thead th {\n",
       "        text-align: right;\n",
       "    }\n",
       "</style>\n",
       "<table border=\"1\" class=\"dataframe\">\n",
       "  <thead>\n",
       "    <tr style=\"text-align: right;\">\n",
       "      <th></th>\n",
       "      <th>user_id</th>\n",
       "      <th>time_browse</th>\n",
       "      <th>time_buy</th>\n",
       "      <th>week_browse</th>\n",
       "      <th>week_buy</th>\n",
       "    </tr>\n",
       "  </thead>\n",
       "  <tbody>\n",
       "    <tr>\n",
       "      <th>0</th>\n",
       "      <td>63995000</td>\n",
       "      <td>晚上</td>\n",
       "      <td>晚上</td>\n",
       "      <td>7</td>\n",
       "      <td>6</td>\n",
       "    </tr>\n",
       "    <tr>\n",
       "      <th>1</th>\n",
       "      <td>141227570</td>\n",
       "      <td>下午</td>\n",
       "      <td>上午</td>\n",
       "      <td>3</td>\n",
       "      <td>3</td>\n",
       "    </tr>\n",
       "    <tr>\n",
       "      <th>2</th>\n",
       "      <td>104574739</td>\n",
       "      <td>晚上</td>\n",
       "      <td>中午</td>\n",
       "      <td>2</td>\n",
       "      <td>7</td>\n",
       "    </tr>\n",
       "    <tr>\n",
       "      <th>3</th>\n",
       "      <td>112700668</td>\n",
       "      <td>晚上</td>\n",
       "      <td>下午</td>\n",
       "      <td>1</td>\n",
       "      <td>5</td>\n",
       "    </tr>\n",
       "    <tr>\n",
       "      <th>4</th>\n",
       "      <td>53139833</td>\n",
       "      <td>晚上</td>\n",
       "      <td>下午,晚上</td>\n",
       "      <td>7</td>\n",
       "      <td>3</td>\n",
       "    </tr>\n",
       "  </tbody>\n",
       "</table>\n",
       "</div>"
      ],
      "text/plain": [
       "     user_id time_browse time_buy week_browse week_buy\n",
       "0   63995000          晚上       晚上           7        6\n",
       "1  141227570          下午       上午           3        3\n",
       "2  104574739          晚上       中午           2        7\n",
       "3  112700668          晚上       下午           1        5\n",
       "4   53139833          晚上    下午,晚上           7        3"
      ]
     },
     "execution_count": 56,
     "metadata": {},
     "output_type": "execute_result"
    }
   ],
   "source": [
    "labels.head()"
   ]
  },
  {
   "cell_type": "code",
   "execution_count": 57,
   "metadata": {},
   "outputs": [
    {
     "data": {
      "text/plain": [
       "0"
      ]
     },
     "execution_count": 57,
     "metadata": {},
     "output_type": "execute_result"
    }
   ],
   "source": [
    "del week_browse\n",
    "del week_browse_max\n",
    "del week_buy_max\n",
    "del week_buy\n",
    "del week_buy_date\n",
    "gc.collect()"
   ]
  },
  {
   "cell_type": "markdown",
   "metadata": {},
   "source": [
    "## 关于类目的用户行为"
   ]
  },
  {
   "cell_type": "code",
   "execution_count": 58,
   "metadata": {},
   "outputs": [],
   "source": [
    "df_browse = df.loc[df['behavior_type']==1,['user_id','item_id','item_category']]\n",
    "df_collect = df.loc[df['behavior_type']==2,['user_id','item_id','item_category']]\n",
    "df_cart = df.loc[df['behavior_type']==3,['user_id','item_id','item_category']]\n",
    "df_buy = df.loc[df['behavior_type']==4,['user_id','item_id','item_category']]"
   ]
  },
  {
   "cell_type": "markdown",
   "metadata": {},
   "source": [
    "### 浏览最多的类目"
   ]
  },
  {
   "cell_type": "code",
   "execution_count": 59,
   "metadata": {},
   "outputs": [],
   "source": [
    "#对用户与类目进行分组，统计浏览次数\n",
    "df_most_cate_browse = df_browse.groupby(['user_id','item_category']).item_id.count().reset_index()"
   ]
  },
  {
   "cell_type": "code",
   "execution_count": 60,
   "metadata": {},
   "outputs": [],
   "source": [
    "df_most_cate_browse.rename(columns={'item_id':'item_category_counts'},inplace=True)"
   ]
  },
  {
   "cell_type": "code",
   "execution_count": 61,
   "metadata": {},
   "outputs": [],
   "source": [
    "df_most_cate_browse_max = df_most_cate_browse.groupby('user_id').item_category_counts.max().reset_index()\n",
    "df_most_cate_browse_max.rename(columns={'item_category_counts':'item_cater_counts_max'},inplace=True)\n",
    "df_most_cate_browse = pd.merge(df_most_cate_browse,df_most_cate_browse_max,how='left',on='user_id')\n",
    "df_most_cate_browse['item_category']=df_most_cate_browse['item_category'].astype(str)"
   ]
  },
  {
   "cell_type": "code",
   "execution_count": 62,
   "metadata": {},
   "outputs": [],
   "source": [
    "#选取各用户浏览次数最多的类目，如有并列最多的项目，用逗号链接\n",
    "df_cate_browse = df_most_cate_browse.loc[df_most_cate_browse['item_category_counts']==df_most_cate_browse['item_cater_counts_max'],'item_category'].groupby(df_most_cate_browse['user_id']).aggregate(lambda x:','.join(x)).reset_index()"
   ]
  },
  {
   "cell_type": "code",
   "execution_count": 63,
   "metadata": {
    "scrolled": true
   },
   "outputs": [
    {
     "data": {
      "text/html": [
       "<div>\n",
       "<style scoped>\n",
       "    .dataframe tbody tr th:only-of-type {\n",
       "        vertical-align: middle;\n",
       "    }\n",
       "\n",
       "    .dataframe tbody tr th {\n",
       "        vertical-align: top;\n",
       "    }\n",
       "\n",
       "    .dataframe thead th {\n",
       "        text-align: right;\n",
       "    }\n",
       "</style>\n",
       "<table border=\"1\" class=\"dataframe\">\n",
       "  <thead>\n",
       "    <tr style=\"text-align: right;\">\n",
       "      <th></th>\n",
       "      <th>user_id</th>\n",
       "      <th>item_category</th>\n",
       "    </tr>\n",
       "  </thead>\n",
       "  <tbody>\n",
       "    <tr>\n",
       "      <th>0</th>\n",
       "      <td>492</td>\n",
       "      <td>6344</td>\n",
       "    </tr>\n",
       "    <tr>\n",
       "      <th>1</th>\n",
       "      <td>3726</td>\n",
       "      <td>5027</td>\n",
       "    </tr>\n",
       "    <tr>\n",
       "      <th>2</th>\n",
       "      <td>19137</td>\n",
       "      <td>1396,2058,3472,3695,9820,11622,11856</td>\n",
       "    </tr>\n",
       "    <tr>\n",
       "      <th>3</th>\n",
       "      <td>36465</td>\n",
       "      <td>7141</td>\n",
       "    </tr>\n",
       "    <tr>\n",
       "      <th>4</th>\n",
       "      <td>37101</td>\n",
       "      <td>1863</td>\n",
       "    </tr>\n",
       "  </tbody>\n",
       "</table>\n",
       "</div>"
      ],
      "text/plain": [
       "   user_id                         item_category\n",
       "0      492                                  6344\n",
       "1     3726                                  5027\n",
       "2    19137  1396,2058,3472,3695,9820,11622,11856\n",
       "3    36465                                  7141\n",
       "4    37101                                  1863"
      ]
     },
     "execution_count": 63,
     "metadata": {},
     "output_type": "execute_result"
    }
   ],
   "source": [
    "df_cate_browse.head()"
   ]
  },
  {
   "cell_type": "code",
   "execution_count": 66,
   "metadata": {},
   "outputs": [
    {
     "data": {
      "text/html": [
       "<div>\n",
       "<style scoped>\n",
       "    .dataframe tbody tr th:only-of-type {\n",
       "        vertical-align: middle;\n",
       "    }\n",
       "\n",
       "    .dataframe tbody tr th {\n",
       "        vertical-align: top;\n",
       "    }\n",
       "\n",
       "    .dataframe thead th {\n",
       "        text-align: right;\n",
       "    }\n",
       "</style>\n",
       "<table border=\"1\" class=\"dataframe\">\n",
       "  <thead>\n",
       "    <tr style=\"text-align: right;\">\n",
       "      <th></th>\n",
       "      <th>user_id</th>\n",
       "      <th>time_browse</th>\n",
       "      <th>time_buy</th>\n",
       "      <th>week_browse</th>\n",
       "      <th>week_buy</th>\n",
       "      <th>item_category</th>\n",
       "    </tr>\n",
       "  </thead>\n",
       "  <tbody>\n",
       "    <tr>\n",
       "      <th>0</th>\n",
       "      <td>63995000</td>\n",
       "      <td>晚上</td>\n",
       "      <td>晚上</td>\n",
       "      <td>7</td>\n",
       "      <td>6</td>\n",
       "      <td>6000</td>\n",
       "    </tr>\n",
       "    <tr>\n",
       "      <th>1</th>\n",
       "      <td>141227570</td>\n",
       "      <td>下午</td>\n",
       "      <td>上午</td>\n",
       "      <td>3</td>\n",
       "      <td>3</td>\n",
       "      <td>5232</td>\n",
       "    </tr>\n",
       "    <tr>\n",
       "      <th>2</th>\n",
       "      <td>104574739</td>\n",
       "      <td>晚上</td>\n",
       "      <td>中午</td>\n",
       "      <td>2</td>\n",
       "      <td>7</td>\n",
       "      <td>1863</td>\n",
       "    </tr>\n",
       "    <tr>\n",
       "      <th>3</th>\n",
       "      <td>112700668</td>\n",
       "      <td>晚上</td>\n",
       "      <td>下午</td>\n",
       "      <td>1</td>\n",
       "      <td>5</td>\n",
       "      <td>1863</td>\n",
       "    </tr>\n",
       "    <tr>\n",
       "      <th>4</th>\n",
       "      <td>53139833</td>\n",
       "      <td>晚上</td>\n",
       "      <td>下午,晚上</td>\n",
       "      <td>7</td>\n",
       "      <td>3</td>\n",
       "      <td>5399</td>\n",
       "    </tr>\n",
       "    <tr>\n",
       "      <th>...</th>\n",
       "      <td>...</td>\n",
       "      <td>...</td>\n",
       "      <td>...</td>\n",
       "      <td>...</td>\n",
       "      <td>...</td>\n",
       "      <td>...</td>\n",
       "    </tr>\n",
       "    <tr>\n",
       "      <th>19955</th>\n",
       "      <td>629691</td>\n",
       "      <td>下午</td>\n",
       "      <td>NaN</td>\n",
       "      <td>7</td>\n",
       "      <td>NaN</td>\n",
       "      <td>7033</td>\n",
       "    </tr>\n",
       "    <tr>\n",
       "      <th>19956</th>\n",
       "      <td>140625326</td>\n",
       "      <td>中午</td>\n",
       "      <td>NaN</td>\n",
       "      <td>2</td>\n",
       "      <td>NaN</td>\n",
       "      <td>2284</td>\n",
       "    </tr>\n",
       "    <tr>\n",
       "      <th>19957</th>\n",
       "      <td>56364627</td>\n",
       "      <td>上午</td>\n",
       "      <td>NaN</td>\n",
       "      <td>5</td>\n",
       "      <td>NaN</td>\n",
       "      <td>13712</td>\n",
       "    </tr>\n",
       "    <tr>\n",
       "      <th>19958</th>\n",
       "      <td>64465212</td>\n",
       "      <td>上午</td>\n",
       "      <td>NaN</td>\n",
       "      <td>1</td>\n",
       "      <td>NaN</td>\n",
       "      <td>13381</td>\n",
       "    </tr>\n",
       "    <tr>\n",
       "      <th>19959</th>\n",
       "      <td>120467860</td>\n",
       "      <td>下午</td>\n",
       "      <td>NaN</td>\n",
       "      <td>4</td>\n",
       "      <td>NaN</td>\n",
       "      <td>1863</td>\n",
       "    </tr>\n",
       "  </tbody>\n",
       "</table>\n",
       "<p>19960 rows × 6 columns</p>\n",
       "</div>"
      ],
      "text/plain": [
       "         user_id time_browse time_buy week_browse week_buy item_category\n",
       "0       63995000          晚上       晚上           7        6          6000\n",
       "1      141227570          下午       上午           3        3          5232\n",
       "2      104574739          晚上       中午           2        7          1863\n",
       "3      112700668          晚上       下午           1        5          1863\n",
       "4       53139833          晚上    下午,晚上           7        3          5399\n",
       "...          ...         ...      ...         ...      ...           ...\n",
       "19955     629691          下午      NaN           7      NaN          7033\n",
       "19956  140625326          中午      NaN           2      NaN          2284\n",
       "19957   56364627          上午      NaN           5      NaN         13712\n",
       "19958   64465212          上午      NaN           1      NaN         13381\n",
       "19959  120467860          下午      NaN           4      NaN          1863\n",
       "\n",
       "[19960 rows x 6 columns]"
      ]
     },
     "execution_count": 66,
     "metadata": {},
     "output_type": "execute_result"
    }
   ],
   "source": [
    "pd.merge(labels,df_cate_browse,how='left',on='user_id')"
   ]
  },
  {
   "cell_type": "code",
   "execution_count": 67,
   "metadata": {},
   "outputs": [],
   "source": [
    "#将用户浏览最多的类目加入到用户标签表中\n",
    "labels = pd.merge(labels,df_cate_browse,how='left',on='user_id')\n",
    "labels.rename(columns={'item_category':'cate_most_browse'},inplace = True)"
   ]
  },
  {
   "cell_type": "code",
   "execution_count": 68,
   "metadata": {},
   "outputs": [
    {
     "data": {
      "text/html": [
       "<div>\n",
       "<style scoped>\n",
       "    .dataframe tbody tr th:only-of-type {\n",
       "        vertical-align: middle;\n",
       "    }\n",
       "\n",
       "    .dataframe tbody tr th {\n",
       "        vertical-align: top;\n",
       "    }\n",
       "\n",
       "    .dataframe thead th {\n",
       "        text-align: right;\n",
       "    }\n",
       "</style>\n",
       "<table border=\"1\" class=\"dataframe\">\n",
       "  <thead>\n",
       "    <tr style=\"text-align: right;\">\n",
       "      <th></th>\n",
       "      <th>user_id</th>\n",
       "      <th>time_browse</th>\n",
       "      <th>time_buy</th>\n",
       "      <th>week_browse</th>\n",
       "      <th>week_buy</th>\n",
       "      <th>cate_most_browse</th>\n",
       "    </tr>\n",
       "  </thead>\n",
       "  <tbody>\n",
       "    <tr>\n",
       "      <th>0</th>\n",
       "      <td>63995000</td>\n",
       "      <td>晚上</td>\n",
       "      <td>晚上</td>\n",
       "      <td>7</td>\n",
       "      <td>6</td>\n",
       "      <td>6000</td>\n",
       "    </tr>\n",
       "    <tr>\n",
       "      <th>1</th>\n",
       "      <td>141227570</td>\n",
       "      <td>下午</td>\n",
       "      <td>上午</td>\n",
       "      <td>3</td>\n",
       "      <td>3</td>\n",
       "      <td>5232</td>\n",
       "    </tr>\n",
       "    <tr>\n",
       "      <th>2</th>\n",
       "      <td>104574739</td>\n",
       "      <td>晚上</td>\n",
       "      <td>中午</td>\n",
       "      <td>2</td>\n",
       "      <td>7</td>\n",
       "      <td>1863</td>\n",
       "    </tr>\n",
       "    <tr>\n",
       "      <th>3</th>\n",
       "      <td>112700668</td>\n",
       "      <td>晚上</td>\n",
       "      <td>下午</td>\n",
       "      <td>1</td>\n",
       "      <td>5</td>\n",
       "      <td>1863</td>\n",
       "    </tr>\n",
       "    <tr>\n",
       "      <th>4</th>\n",
       "      <td>53139833</td>\n",
       "      <td>晚上</td>\n",
       "      <td>下午,晚上</td>\n",
       "      <td>7</td>\n",
       "      <td>3</td>\n",
       "      <td>5399</td>\n",
       "    </tr>\n",
       "    <tr>\n",
       "      <th>5</th>\n",
       "      <td>101490976</td>\n",
       "      <td>下午</td>\n",
       "      <td>下午</td>\n",
       "      <td>5</td>\n",
       "      <td>5</td>\n",
       "      <td>3783</td>\n",
       "    </tr>\n",
       "    <tr>\n",
       "      <th>6</th>\n",
       "      <td>120019864</td>\n",
       "      <td>晚上</td>\n",
       "      <td>下午</td>\n",
       "      <td>7</td>\n",
       "      <td>7</td>\n",
       "      <td>11279</td>\n",
       "    </tr>\n",
       "    <tr>\n",
       "      <th>7</th>\n",
       "      <td>134463810</td>\n",
       "      <td>下午</td>\n",
       "      <td>中午,晚上</td>\n",
       "      <td>3</td>\n",
       "      <td>7</td>\n",
       "      <td>9517</td>\n",
       "    </tr>\n",
       "    <tr>\n",
       "      <th>8</th>\n",
       "      <td>111037423</td>\n",
       "      <td>晚上</td>\n",
       "      <td>晚上</td>\n",
       "      <td>4</td>\n",
       "      <td>5</td>\n",
       "      <td>5027</td>\n",
       "    </tr>\n",
       "    <tr>\n",
       "      <th>9</th>\n",
       "      <td>55358033</td>\n",
       "      <td>下午</td>\n",
       "      <td>NaN</td>\n",
       "      <td>4</td>\n",
       "      <td>NaN</td>\n",
       "      <td>1863</td>\n",
       "    </tr>\n",
       "  </tbody>\n",
       "</table>\n",
       "</div>"
      ],
      "text/plain": [
       "     user_id time_browse time_buy week_browse week_buy cate_most_browse\n",
       "0   63995000          晚上       晚上           7        6             6000\n",
       "1  141227570          下午       上午           3        3             5232\n",
       "2  104574739          晚上       中午           2        7             1863\n",
       "3  112700668          晚上       下午           1        5             1863\n",
       "4   53139833          晚上    下午,晚上           7        3             5399\n",
       "5  101490976          下午       下午           5        5             3783\n",
       "6  120019864          晚上       下午           7        7            11279\n",
       "7  134463810          下午    中午,晚上           3        7             9517\n",
       "8  111037423          晚上       晚上           4        5             5027\n",
       "9   55358033          下午      NaN           4      NaN             1863"
      ]
     },
     "execution_count": 68,
     "metadata": {},
     "output_type": "execute_result"
    }
   ],
   "source": [
    "labels.head(10)"
   ]
  },
  {
   "cell_type": "markdown",
   "metadata": {},
   "source": [
    "### 收藏最多的类目"
   ]
  },
  {
   "cell_type": "code",
   "execution_count": 69,
   "metadata": {},
   "outputs": [],
   "source": [
    "#生成逻辑与浏览最多的类目相同\n",
    "df_cate_most_collect = df_collect.groupby(['user_id','item_category']).item_id.count().reset_index()\n",
    "df_cate_most_collect.rename(columns={'item_id':'item_category_counts'},inplace=True)\n",
    "df_cate_most_collect_max = df_cate_most_collect.groupby('user_id').item_category_counts.max().reset_index()\n",
    "df_cate_most_collect_max.rename(columns={'item_category_counts':'item_category_counts_max'},inplace=True)\n",
    "df_cate_most_collect = pd.merge(df_cate_most_collect,df_cate_most_collect_max,how='left',on='user_id')\n",
    "df_cate_most_collect['item_category'] = df_cate_most_collect['item_category'].astype(str)\n",
    "df_cate_collect = df_cate_most_collect.loc[df_cate_most_collect['item_category_counts']==df_cate_most_collect['item_category_counts_max'],'item_category'].groupby(df_cate_most_collect['user_id']).aggregate(lambda x:','.join(x)).reset_index()"
   ]
  },
  {
   "cell_type": "code",
   "execution_count": 70,
   "metadata": {},
   "outputs": [
    {
     "data": {
      "text/html": [
       "<div>\n",
       "<style scoped>\n",
       "    .dataframe tbody tr th:only-of-type {\n",
       "        vertical-align: middle;\n",
       "    }\n",
       "\n",
       "    .dataframe tbody tr th {\n",
       "        vertical-align: top;\n",
       "    }\n",
       "\n",
       "    .dataframe thead th {\n",
       "        text-align: right;\n",
       "    }\n",
       "</style>\n",
       "<table border=\"1\" class=\"dataframe\">\n",
       "  <thead>\n",
       "    <tr style=\"text-align: right;\">\n",
       "      <th></th>\n",
       "      <th>user_id</th>\n",
       "      <th>item_category</th>\n",
       "    </tr>\n",
       "  </thead>\n",
       "  <tbody>\n",
       "    <tr>\n",
       "      <th>0</th>\n",
       "      <td>36465</td>\n",
       "      <td>12997</td>\n",
       "    </tr>\n",
       "    <tr>\n",
       "      <th>1</th>\n",
       "      <td>38745</td>\n",
       "      <td>10392</td>\n",
       "    </tr>\n",
       "    <tr>\n",
       "      <th>2</th>\n",
       "      <td>45561</td>\n",
       "      <td>3783</td>\n",
       "    </tr>\n",
       "    <tr>\n",
       "      <th>3</th>\n",
       "      <td>59436</td>\n",
       "      <td>11159</td>\n",
       "    </tr>\n",
       "    <tr>\n",
       "      <th>4</th>\n",
       "      <td>60723</td>\n",
       "      <td>3829,5057,7985,8665,8874</td>\n",
       "    </tr>\n",
       "  </tbody>\n",
       "</table>\n",
       "</div>"
      ],
      "text/plain": [
       "   user_id             item_category\n",
       "0    36465                     12997\n",
       "1    38745                     10392\n",
       "2    45561                      3783\n",
       "3    59436                     11159\n",
       "4    60723  3829,5057,7985,8665,8874"
      ]
     },
     "execution_count": 70,
     "metadata": {},
     "output_type": "execute_result"
    }
   ],
   "source": [
    "df_cate_collect.head()"
   ]
  },
  {
   "cell_type": "code",
   "execution_count": 71,
   "metadata": {},
   "outputs": [],
   "source": [
    "labels = pd.merge(labels,df_cate_collect,how='left',on='user_id')\n",
    "labels.rename(columns={'item_category':'cate_most_collect'},inplace=True)"
   ]
  },
  {
   "cell_type": "markdown",
   "metadata": {},
   "source": [
    "### 加购最多的类目"
   ]
  },
  {
   "cell_type": "code",
   "execution_count": 72,
   "metadata": {},
   "outputs": [],
   "source": [
    "#生成逻辑与浏览最多的类目相同\n",
    "df_cate_most_cart = df_cart.groupby(['user_id','item_category']).item_id.count().reset_index()\n",
    "df_cate_most_cart = df_cart.groupby(['user_id','item_category']).item_id.count().reset_index()\n",
    "df_cate_most_cart.rename(columns={'item_id':'item_category_counts'},inplace=True)\n",
    "df_cate_most_cart_max = df_cate_most_cart.groupby('user_id').item_category_counts.max().reset_index()\n",
    "df_cate_most_cart_max.rename(columns={'item_category_counts':'item_category_counts_max'},inplace=True)\n",
    "df_cate_most_cart = pd.merge(df_cate_most_cart,df_cate_most_cart_max,how='left',on='user_id')\n",
    "df_cate_most_cart['item_category'] = df_cate_most_cart['item_category'].astype(str)\n",
    "df_cate_cart = df_cate_most_cart.loc[df_cate_most_cart['item_category_counts']==df_cate_most_cart['item_category_counts_max'],'item_category'].groupby(df_cate_most_cart['user_id']).aggregate(lambda x:','.join(x)).reset_index()"
   ]
  },
  {
   "cell_type": "code",
   "execution_count": 73,
   "metadata": {},
   "outputs": [
    {
     "data": {
      "text/html": [
       "<div>\n",
       "<style scoped>\n",
       "    .dataframe tbody tr th:only-of-type {\n",
       "        vertical-align: middle;\n",
       "    }\n",
       "\n",
       "    .dataframe tbody tr th {\n",
       "        vertical-align: top;\n",
       "    }\n",
       "\n",
       "    .dataframe thead th {\n",
       "        text-align: right;\n",
       "    }\n",
       "</style>\n",
       "<table border=\"1\" class=\"dataframe\">\n",
       "  <thead>\n",
       "    <tr style=\"text-align: right;\">\n",
       "      <th></th>\n",
       "      <th>user_id</th>\n",
       "      <th>item_category</th>\n",
       "    </tr>\n",
       "  </thead>\n",
       "  <tbody>\n",
       "    <tr>\n",
       "      <th>0</th>\n",
       "      <td>492</td>\n",
       "      <td>9559</td>\n",
       "    </tr>\n",
       "    <tr>\n",
       "      <th>1</th>\n",
       "      <td>37101</td>\n",
       "      <td>9261</td>\n",
       "    </tr>\n",
       "    <tr>\n",
       "      <th>2</th>\n",
       "      <td>45561</td>\n",
       "      <td>8664</td>\n",
       "    </tr>\n",
       "    <tr>\n",
       "      <th>3</th>\n",
       "      <td>59436</td>\n",
       "      <td>2754,2953,3673,4370,5204,7023,9516,10686,11307</td>\n",
       "    </tr>\n",
       "    <tr>\n",
       "      <th>4</th>\n",
       "      <td>61797</td>\n",
       "      <td>6513,13230</td>\n",
       "    </tr>\n",
       "  </tbody>\n",
       "</table>\n",
       "</div>"
      ],
      "text/plain": [
       "   user_id                                   item_category\n",
       "0      492                                            9559\n",
       "1    37101                                            9261\n",
       "2    45561                                            8664\n",
       "3    59436  2754,2953,3673,4370,5204,7023,9516,10686,11307\n",
       "4    61797                                      6513,13230"
      ]
     },
     "execution_count": 73,
     "metadata": {},
     "output_type": "execute_result"
    }
   ],
   "source": [
    "df_cate_cart.head()"
   ]
  },
  {
   "cell_type": "code",
   "execution_count": 74,
   "metadata": {},
   "outputs": [],
   "source": [
    "labels = pd.merge(labels,df_cate_cart,how='left',on='user_id')\n",
    "labels.rename(columns={'item_category':'cate_most_cart'},inplace=True)"
   ]
  },
  {
   "cell_type": "code",
   "execution_count": 75,
   "metadata": {},
   "outputs": [
    {
     "data": {
      "text/html": [
       "<div>\n",
       "<style scoped>\n",
       "    .dataframe tbody tr th:only-of-type {\n",
       "        vertical-align: middle;\n",
       "    }\n",
       "\n",
       "    .dataframe tbody tr th {\n",
       "        vertical-align: top;\n",
       "    }\n",
       "\n",
       "    .dataframe thead th {\n",
       "        text-align: right;\n",
       "    }\n",
       "</style>\n",
       "<table border=\"1\" class=\"dataframe\">\n",
       "  <thead>\n",
       "    <tr style=\"text-align: right;\">\n",
       "      <th></th>\n",
       "      <th>user_id</th>\n",
       "      <th>time_browse</th>\n",
       "      <th>time_buy</th>\n",
       "      <th>week_browse</th>\n",
       "      <th>week_buy</th>\n",
       "      <th>cate_most_browse</th>\n",
       "      <th>cate_most_collect</th>\n",
       "      <th>cate_most_cart</th>\n",
       "    </tr>\n",
       "  </thead>\n",
       "  <tbody>\n",
       "    <tr>\n",
       "      <th>0</th>\n",
       "      <td>63995000</td>\n",
       "      <td>晚上</td>\n",
       "      <td>晚上</td>\n",
       "      <td>7</td>\n",
       "      <td>6</td>\n",
       "      <td>6000</td>\n",
       "      <td>NaN</td>\n",
       "      <td>2656,3472,10431,11834</td>\n",
       "    </tr>\n",
       "    <tr>\n",
       "      <th>1</th>\n",
       "      <td>141227570</td>\n",
       "      <td>下午</td>\n",
       "      <td>上午</td>\n",
       "      <td>3</td>\n",
       "      <td>3</td>\n",
       "      <td>5232</td>\n",
       "      <td>6344,6541</td>\n",
       "      <td>6936</td>\n",
       "    </tr>\n",
       "    <tr>\n",
       "      <th>2</th>\n",
       "      <td>104574739</td>\n",
       "      <td>晚上</td>\n",
       "      <td>中午</td>\n",
       "      <td>2</td>\n",
       "      <td>7</td>\n",
       "      <td>1863</td>\n",
       "      <td>NaN</td>\n",
       "      <td>3660,10894,11824</td>\n",
       "    </tr>\n",
       "    <tr>\n",
       "      <th>3</th>\n",
       "      <td>112700668</td>\n",
       "      <td>晚上</td>\n",
       "      <td>下午</td>\n",
       "      <td>1</td>\n",
       "      <td>5</td>\n",
       "      <td>1863</td>\n",
       "      <td>NaN</td>\n",
       "      <td>NaN</td>\n",
       "    </tr>\n",
       "    <tr>\n",
       "      <th>4</th>\n",
       "      <td>53139833</td>\n",
       "      <td>晚上</td>\n",
       "      <td>下午,晚上</td>\n",
       "      <td>7</td>\n",
       "      <td>3</td>\n",
       "      <td>5399</td>\n",
       "      <td>5399</td>\n",
       "      <td>5232,5399,6255,10661</td>\n",
       "    </tr>\n",
       "    <tr>\n",
       "      <th>5</th>\n",
       "      <td>101490976</td>\n",
       "      <td>下午</td>\n",
       "      <td>下午</td>\n",
       "      <td>5</td>\n",
       "      <td>5</td>\n",
       "      <td>3783</td>\n",
       "      <td>3783</td>\n",
       "      <td>3975,5719,7549,10265,12855,13338</td>\n",
       "    </tr>\n",
       "    <tr>\n",
       "      <th>6</th>\n",
       "      <td>120019864</td>\n",
       "      <td>晚上</td>\n",
       "      <td>下午</td>\n",
       "      <td>7</td>\n",
       "      <td>7</td>\n",
       "      <td>11279</td>\n",
       "      <td>6513</td>\n",
       "      <td>4676,6513,10392</td>\n",
       "    </tr>\n",
       "    <tr>\n",
       "      <th>7</th>\n",
       "      <td>134463810</td>\n",
       "      <td>下午</td>\n",
       "      <td>中午,晚上</td>\n",
       "      <td>3</td>\n",
       "      <td>7</td>\n",
       "      <td>9517</td>\n",
       "      <td>3381</td>\n",
       "      <td>6226,6957,9412,9516,11537</td>\n",
       "    </tr>\n",
       "    <tr>\n",
       "      <th>8</th>\n",
       "      <td>111037423</td>\n",
       "      <td>晚上</td>\n",
       "      <td>晚上</td>\n",
       "      <td>4</td>\n",
       "      <td>5</td>\n",
       "      <td>5027</td>\n",
       "      <td>NaN</td>\n",
       "      <td>5894</td>\n",
       "    </tr>\n",
       "    <tr>\n",
       "      <th>9</th>\n",
       "      <td>55358033</td>\n",
       "      <td>下午</td>\n",
       "      <td>NaN</td>\n",
       "      <td>4</td>\n",
       "      <td>NaN</td>\n",
       "      <td>1863</td>\n",
       "      <td>NaN</td>\n",
       "      <td>1863,4269,5908,6344</td>\n",
       "    </tr>\n",
       "  </tbody>\n",
       "</table>\n",
       "</div>"
      ],
      "text/plain": [
       "     user_id time_browse time_buy week_browse week_buy cate_most_browse  \\\n",
       "0   63995000          晚上       晚上           7        6             6000   \n",
       "1  141227570          下午       上午           3        3             5232   \n",
       "2  104574739          晚上       中午           2        7             1863   \n",
       "3  112700668          晚上       下午           1        5             1863   \n",
       "4   53139833          晚上    下午,晚上           7        3             5399   \n",
       "5  101490976          下午       下午           5        5             3783   \n",
       "6  120019864          晚上       下午           7        7            11279   \n",
       "7  134463810          下午    中午,晚上           3        7             9517   \n",
       "8  111037423          晚上       晚上           4        5             5027   \n",
       "9   55358033          下午      NaN           4      NaN             1863   \n",
       "\n",
       "  cate_most_collect                    cate_most_cart  \n",
       "0               NaN             2656,3472,10431,11834  \n",
       "1         6344,6541                              6936  \n",
       "2               NaN                  3660,10894,11824  \n",
       "3               NaN                               NaN  \n",
       "4              5399              5232,5399,6255,10661  \n",
       "5              3783  3975,5719,7549,10265,12855,13338  \n",
       "6              6513                   4676,6513,10392  \n",
       "7              3381         6226,6957,9412,9516,11537  \n",
       "8               NaN                              5894  \n",
       "9               NaN               1863,4269,5908,6344  "
      ]
     },
     "execution_count": 75,
     "metadata": {},
     "output_type": "execute_result"
    }
   ],
   "source": [
    "labels.head(10)"
   ]
  },
  {
   "cell_type": "markdown",
   "metadata": {},
   "source": [
    "### 购买最多的类目"
   ]
  },
  {
   "cell_type": "code",
   "execution_count": 76,
   "metadata": {},
   "outputs": [],
   "source": [
    "#生成逻辑与浏览最多的类目相同\n",
    "df_cate_most_buy = df_buy.groupby(['user_id','item_category']).item_id.count().reset_index()\n",
    "df_cate_most_buy = df_buy.groupby(['user_id','item_category']).item_id.count().reset_index()\n",
    "df_cate_most_buy.rename(columns={'item_id':'item_category_counts'},inplace=True)\n",
    "df_cate_most_buy_max = df_cate_most_buy.groupby('user_id').item_category_counts.max().reset_index()\n",
    "df_cate_most_buy_max.rename(columns={'item_category_counts':'item_category_counts_max'},inplace=True)\n",
    "df_cate_most_buy = pd.merge(df_cate_most_buy,df_cate_most_buy_max,how='left',on='user_id')\n",
    "df_cate_most_buy['item_category'] = df_cate_most_buy['item_category'].astype(str)\n",
    "df_cate_buy = df_cate_most_buy.loc[df_cate_most_buy['item_category_counts']==df_cate_most_buy['item_category_counts_max'],'item_category'].groupby(df_cate_most_buy['user_id']).aggregate(lambda x:','.join(x)).reset_index()"
   ]
  },
  {
   "cell_type": "code",
   "execution_count": 77,
   "metadata": {},
   "outputs": [
    {
     "data": {
      "text/html": [
       "<div>\n",
       "<style scoped>\n",
       "    .dataframe tbody tr th:only-of-type {\n",
       "        vertical-align: middle;\n",
       "    }\n",
       "\n",
       "    .dataframe tbody tr th {\n",
       "        vertical-align: top;\n",
       "    }\n",
       "\n",
       "    .dataframe thead th {\n",
       "        text-align: right;\n",
       "    }\n",
       "</style>\n",
       "<table border=\"1\" class=\"dataframe\">\n",
       "  <thead>\n",
       "    <tr style=\"text-align: right;\">\n",
       "      <th></th>\n",
       "      <th>user_id</th>\n",
       "      <th>item_category</th>\n",
       "    </tr>\n",
       "  </thead>\n",
       "  <tbody>\n",
       "    <tr>\n",
       "      <th>0</th>\n",
       "      <td>37101</td>\n",
       "      <td>5232</td>\n",
       "    </tr>\n",
       "    <tr>\n",
       "      <th>1</th>\n",
       "      <td>38745</td>\n",
       "      <td>10556</td>\n",
       "    </tr>\n",
       "    <tr>\n",
       "      <th>2</th>\n",
       "      <td>45561</td>\n",
       "      <td>675,10686</td>\n",
       "    </tr>\n",
       "    <tr>\n",
       "      <th>3</th>\n",
       "      <td>59436</td>\n",
       "      <td>2754,4370</td>\n",
       "    </tr>\n",
       "    <tr>\n",
       "      <th>4</th>\n",
       "      <td>100605</td>\n",
       "      <td>893</td>\n",
       "    </tr>\n",
       "  </tbody>\n",
       "</table>\n",
       "</div>"
      ],
      "text/plain": [
       "   user_id item_category\n",
       "0    37101          5232\n",
       "1    38745         10556\n",
       "2    45561     675,10686\n",
       "3    59436     2754,4370\n",
       "4   100605           893"
      ]
     },
     "execution_count": 77,
     "metadata": {},
     "output_type": "execute_result"
    }
   ],
   "source": [
    "df_cate_buy.head()"
   ]
  },
  {
   "cell_type": "code",
   "execution_count": 78,
   "metadata": {},
   "outputs": [],
   "source": [
    "labels = pd.merge(labels,df_cate_buy,how='left',on='user_id')\n",
    "labels.rename(columns={'item_category':'cate_most_buy'},inplace=True)"
   ]
  },
  {
   "cell_type": "code",
   "execution_count": 79,
   "metadata": {},
   "outputs": [
    {
     "data": {
      "text/plain": [
       "0"
      ]
     },
     "execution_count": 79,
     "metadata": {},
     "output_type": "execute_result"
    }
   ],
   "source": [
    "del df_browse\n",
    "del df_collect\n",
    "del df_cart\n",
    "del df_buy\n",
    "del df_most_cate_browse\n",
    "del df_cate_most_collect\n",
    "del df_cate_most_buy\n",
    "del df_cate_most_cart\n",
    "del df_most_cate_browse_max\n",
    "del df_cate_most_collect_max\n",
    "del df_cate_most_cart_max\n",
    "del df_cate_most_buy_max\n",
    "del df_cate_browse\n",
    "del df_cate_collect\n",
    "del df_cate_cart\n",
    "del df_cate_buy\n",
    "gc.collect(0)"
   ]
  },
  {
   "cell_type": "markdown",
   "metadata": {},
   "source": [
    "## 30天用户行为\n",
    "数据集中的数据正好是一个月，30天的数据即整个数据集的数据"
   ]
  },
  {
   "cell_type": "markdown",
   "metadata": {},
   "source": [
    "### 近30天购买次数"
   ]
  },
  {
   "cell_type": "code",
   "execution_count": 80,
   "metadata": {},
   "outputs": [],
   "source": [
    "#将购买行为按用户进行分组，统计次数\n",
    "df_counts_30_buy = df[df['behavior_type']==4].groupby('user_id').item_id.count().reset_index()"
   ]
  },
  {
   "cell_type": "code",
   "execution_count": 81,
   "metadata": {},
   "outputs": [
    {
     "data": {
      "text/html": [
       "<div>\n",
       "<style scoped>\n",
       "    .dataframe tbody tr th:only-of-type {\n",
       "        vertical-align: middle;\n",
       "    }\n",
       "\n",
       "    .dataframe tbody tr th {\n",
       "        vertical-align: top;\n",
       "    }\n",
       "\n",
       "    .dataframe thead th {\n",
       "        text-align: right;\n",
       "    }\n",
       "</style>\n",
       "<table border=\"1\" class=\"dataframe\">\n",
       "  <thead>\n",
       "    <tr style=\"text-align: right;\">\n",
       "      <th></th>\n",
       "      <th>user_id</th>\n",
       "      <th>item_id</th>\n",
       "    </tr>\n",
       "  </thead>\n",
       "  <tbody>\n",
       "    <tr>\n",
       "      <th>0</th>\n",
       "      <td>37101</td>\n",
       "      <td>1</td>\n",
       "    </tr>\n",
       "    <tr>\n",
       "      <th>1</th>\n",
       "      <td>38745</td>\n",
       "      <td>1</td>\n",
       "    </tr>\n",
       "    <tr>\n",
       "      <th>2</th>\n",
       "      <td>45561</td>\n",
       "      <td>2</td>\n",
       "    </tr>\n",
       "    <tr>\n",
       "      <th>3</th>\n",
       "      <td>59436</td>\n",
       "      <td>2</td>\n",
       "    </tr>\n",
       "    <tr>\n",
       "      <th>4</th>\n",
       "      <td>100605</td>\n",
       "      <td>3</td>\n",
       "    </tr>\n",
       "  </tbody>\n",
       "</table>\n",
       "</div>"
      ],
      "text/plain": [
       "   user_id  item_id\n",
       "0    37101        1\n",
       "1    38745        1\n",
       "2    45561        2\n",
       "3    59436        2\n",
       "4   100605        3"
      ]
     },
     "execution_count": 81,
     "metadata": {},
     "output_type": "execute_result"
    }
   ],
   "source": [
    "df_counts_30_buy.head()"
   ]
  },
  {
   "cell_type": "code",
   "execution_count": 82,
   "metadata": {},
   "outputs": [],
   "source": [
    "labels = pd.merge(labels,df_counts_30_buy,how='left',on='user_id')\n",
    "labels.rename(columns={'item_id':'counts_30_buy'},inplace=True)"
   ]
  },
  {
   "cell_type": "markdown",
   "metadata": {},
   "source": [
    "### 近30天加购次数"
   ]
  },
  {
   "cell_type": "code",
   "execution_count": 83,
   "metadata": {},
   "outputs": [],
   "source": [
    "#将加购行为按用户进行分组，统计次数\n",
    "df_counts_30_cart = df[df['behavior_type']==3].groupby('user_id').item_id.count().reset_index()"
   ]
  },
  {
   "cell_type": "code",
   "execution_count": 84,
   "metadata": {},
   "outputs": [
    {
     "data": {
      "text/html": [
       "<div>\n",
       "<style scoped>\n",
       "    .dataframe tbody tr th:only-of-type {\n",
       "        vertical-align: middle;\n",
       "    }\n",
       "\n",
       "    .dataframe tbody tr th {\n",
       "        vertical-align: top;\n",
       "    }\n",
       "\n",
       "    .dataframe thead th {\n",
       "        text-align: right;\n",
       "    }\n",
       "</style>\n",
       "<table border=\"1\" class=\"dataframe\">\n",
       "  <thead>\n",
       "    <tr style=\"text-align: right;\">\n",
       "      <th></th>\n",
       "      <th>user_id</th>\n",
       "      <th>item_id</th>\n",
       "    </tr>\n",
       "  </thead>\n",
       "  <tbody>\n",
       "    <tr>\n",
       "      <th>0</th>\n",
       "      <td>492</td>\n",
       "      <td>1</td>\n",
       "    </tr>\n",
       "    <tr>\n",
       "      <th>1</th>\n",
       "      <td>37101</td>\n",
       "      <td>5</td>\n",
       "    </tr>\n",
       "    <tr>\n",
       "      <th>2</th>\n",
       "      <td>45561</td>\n",
       "      <td>44</td>\n",
       "    </tr>\n",
       "    <tr>\n",
       "      <th>3</th>\n",
       "      <td>59436</td>\n",
       "      <td>9</td>\n",
       "    </tr>\n",
       "    <tr>\n",
       "      <th>4</th>\n",
       "      <td>61797</td>\n",
       "      <td>2</td>\n",
       "    </tr>\n",
       "  </tbody>\n",
       "</table>\n",
       "</div>"
      ],
      "text/plain": [
       "   user_id  item_id\n",
       "0      492        1\n",
       "1    37101        5\n",
       "2    45561       44\n",
       "3    59436        9\n",
       "4    61797        2"
      ]
     },
     "execution_count": 84,
     "metadata": {},
     "output_type": "execute_result"
    }
   ],
   "source": [
    "df_counts_30_cart.head()"
   ]
  },
  {
   "cell_type": "code",
   "execution_count": 85,
   "metadata": {},
   "outputs": [],
   "source": [
    "labels = pd.merge(labels,df_counts_30_cart,how='left',on='user_id')\n",
    "labels.rename(columns={'item_id':'counts_30_cart'},inplace=True)"
   ]
  },
  {
   "cell_type": "markdown",
   "metadata": {},
   "source": [
    "### 近30天活跃天数"
   ]
  },
  {
   "cell_type": "code",
   "execution_count": 86,
   "metadata": {},
   "outputs": [],
   "source": [
    "#对用户进行分组，统计活跃的天数，包括浏览、收藏、加购、购买\n",
    "counts_30_active = df.groupby('user_id')['date'].nunique()"
   ]
  },
  {
   "cell_type": "code",
   "execution_count": 87,
   "metadata": {},
   "outputs": [
    {
     "data": {
      "text/plain": [
       "user_id\n",
       "492      13\n",
       "3726     15\n",
       "19137     4\n",
       "36465     3\n",
       "37101    20\n",
       "Name: date, dtype: int64"
      ]
     },
     "execution_count": 87,
     "metadata": {},
     "output_type": "execute_result"
    }
   ],
   "source": [
    "counts_30_active.head()"
   ]
  },
  {
   "cell_type": "code",
   "execution_count": 88,
   "metadata": {},
   "outputs": [],
   "source": [
    "labels = pd.merge(labels,counts_30_active,how='left',on='user_id')\n",
    "labels.rename(columns={'date':'counts_30_active'},inplace=True)"
   ]
  },
  {
   "cell_type": "code",
   "execution_count": 89,
   "metadata": {},
   "outputs": [
    {
     "data": {
      "text/plain": [
       "0"
      ]
     },
     "execution_count": 89,
     "metadata": {},
     "output_type": "execute_result"
    }
   ],
   "source": [
    "del df_counts_30_buy\n",
    "del df_counts_30_cart\n",
    "del counts_30_active\n",
    "gc.collect()"
   ]
  },
  {
   "cell_type": "markdown",
   "metadata": {},
   "source": [
    "## 7天用户行为"
   ]
  },
  {
   "cell_type": "code",
   "execution_count": 90,
   "metadata": {},
   "outputs": [],
   "source": [
    "#数据集中的最后日期是12月18号，统计11号之后的用户行为\n",
    "df_near_7 = df[df['date']>datetime.strptime('2014-12-11', '%Y-%m-%d')]"
   ]
  },
  {
   "cell_type": "markdown",
   "metadata": {},
   "source": [
    "### 近7天购买次数"
   ]
  },
  {
   "cell_type": "code",
   "execution_count": 91,
   "metadata": {},
   "outputs": [],
   "source": [
    "df_counts_7_buy = df_near_7[df_near_7['behavior_type']==4].groupby('user_id').item_id.count().reset_index()"
   ]
  },
  {
   "cell_type": "code",
   "execution_count": 92,
   "metadata": {},
   "outputs": [
    {
     "data": {
      "text/html": [
       "<div>\n",
       "<style scoped>\n",
       "    .dataframe tbody tr th:only-of-type {\n",
       "        vertical-align: middle;\n",
       "    }\n",
       "\n",
       "    .dataframe tbody tr th {\n",
       "        vertical-align: top;\n",
       "    }\n",
       "\n",
       "    .dataframe thead th {\n",
       "        text-align: right;\n",
       "    }\n",
       "</style>\n",
       "<table border=\"1\" class=\"dataframe\">\n",
       "  <thead>\n",
       "    <tr style=\"text-align: right;\">\n",
       "      <th></th>\n",
       "      <th>user_id</th>\n",
       "      <th>item_id</th>\n",
       "    </tr>\n",
       "  </thead>\n",
       "  <tbody>\n",
       "    <tr>\n",
       "      <th>0</th>\n",
       "      <td>45561</td>\n",
       "      <td>2</td>\n",
       "    </tr>\n",
       "    <tr>\n",
       "      <th>1</th>\n",
       "      <td>59436</td>\n",
       "      <td>1</td>\n",
       "    </tr>\n",
       "    <tr>\n",
       "      <th>2</th>\n",
       "      <td>100605</td>\n",
       "      <td>3</td>\n",
       "    </tr>\n",
       "    <tr>\n",
       "      <th>3</th>\n",
       "      <td>100890</td>\n",
       "      <td>2</td>\n",
       "    </tr>\n",
       "    <tr>\n",
       "      <th>4</th>\n",
       "      <td>106362</td>\n",
       "      <td>2</td>\n",
       "    </tr>\n",
       "  </tbody>\n",
       "</table>\n",
       "</div>"
      ],
      "text/plain": [
       "   user_id  item_id\n",
       "0    45561        2\n",
       "1    59436        1\n",
       "2   100605        3\n",
       "3   100890        2\n",
       "4   106362        2"
      ]
     },
     "execution_count": 92,
     "metadata": {},
     "output_type": "execute_result"
    }
   ],
   "source": [
    "df_counts_7_buy.head()"
   ]
  },
  {
   "cell_type": "code",
   "execution_count": 93,
   "metadata": {},
   "outputs": [],
   "source": [
    "labels = pd.merge(labels,df_counts_7_buy,how='left',on='user_id')\n",
    "labels.rename(columns={'item_id':'counts_7_buy'},inplace=True)"
   ]
  },
  {
   "cell_type": "markdown",
   "metadata": {},
   "source": [
    "### 近7天加购次数"
   ]
  },
  {
   "cell_type": "code",
   "execution_count": 94,
   "metadata": {},
   "outputs": [],
   "source": [
    "df_counts_7_cart = df_near_7[df_near_7['behavior_type']==3].groupby('user_id').item_id.count().reset_index()"
   ]
  },
  {
   "cell_type": "code",
   "execution_count": 95,
   "metadata": {},
   "outputs": [
    {
     "data": {
      "text/html": [
       "<div>\n",
       "<style scoped>\n",
       "    .dataframe tbody tr th:only-of-type {\n",
       "        vertical-align: middle;\n",
       "    }\n",
       "\n",
       "    .dataframe tbody tr th {\n",
       "        vertical-align: top;\n",
       "    }\n",
       "\n",
       "    .dataframe thead th {\n",
       "        text-align: right;\n",
       "    }\n",
       "</style>\n",
       "<table border=\"1\" class=\"dataframe\">\n",
       "  <thead>\n",
       "    <tr style=\"text-align: right;\">\n",
       "      <th></th>\n",
       "      <th>user_id</th>\n",
       "      <th>item_id</th>\n",
       "    </tr>\n",
       "  </thead>\n",
       "  <tbody>\n",
       "    <tr>\n",
       "      <th>0</th>\n",
       "      <td>37101</td>\n",
       "      <td>3</td>\n",
       "    </tr>\n",
       "    <tr>\n",
       "      <th>1</th>\n",
       "      <td>45561</td>\n",
       "      <td>23</td>\n",
       "    </tr>\n",
       "    <tr>\n",
       "      <th>2</th>\n",
       "      <td>59436</td>\n",
       "      <td>7</td>\n",
       "    </tr>\n",
       "    <tr>\n",
       "      <th>3</th>\n",
       "      <td>100605</td>\n",
       "      <td>3</td>\n",
       "    </tr>\n",
       "    <tr>\n",
       "      <th>4</th>\n",
       "      <td>131694</td>\n",
       "      <td>5</td>\n",
       "    </tr>\n",
       "  </tbody>\n",
       "</table>\n",
       "</div>"
      ],
      "text/plain": [
       "   user_id  item_id\n",
       "0    37101        3\n",
       "1    45561       23\n",
       "2    59436        7\n",
       "3   100605        3\n",
       "4   131694        5"
      ]
     },
     "execution_count": 95,
     "metadata": {},
     "output_type": "execute_result"
    }
   ],
   "source": [
    "df_counts_7_cart.head()"
   ]
  },
  {
   "cell_type": "code",
   "execution_count": 96,
   "metadata": {},
   "outputs": [],
   "source": [
    "labels = pd.merge(labels,df_counts_7_cart,how='left',on='user_id')\n",
    "labels.rename(columns={'item_id':'counts_7_cart'},inplace=True)"
   ]
  },
  {
   "cell_type": "markdown",
   "metadata": {},
   "source": [
    "### 近7天活跃天数"
   ]
  },
  {
   "cell_type": "code",
   "execution_count": 97,
   "metadata": {},
   "outputs": [],
   "source": [
    "counts_7_active = df_near_7.groupby('user_id')['date'].nunique()"
   ]
  },
  {
   "cell_type": "code",
   "execution_count": 98,
   "metadata": {},
   "outputs": [
    {
     "data": {
      "text/plain": [
       "user_id\n",
       "492      5\n",
       "3726     6\n",
       "36465    1\n",
       "37101    5\n",
       "38745    5\n",
       "Name: date, dtype: int64"
      ]
     },
     "execution_count": 98,
     "metadata": {},
     "output_type": "execute_result"
    }
   ],
   "source": [
    "counts_7_active.head()"
   ]
  },
  {
   "cell_type": "code",
   "execution_count": 99,
   "metadata": {},
   "outputs": [],
   "source": [
    "labels = pd.merge(labels,counts_7_active,how='left',on='user_id')\n",
    "labels.rename(columns={'date':'counts_7_active'},inplace=True)"
   ]
  },
  {
   "cell_type": "code",
   "execution_count": 100,
   "metadata": {},
   "outputs": [
    {
     "data": {
      "text/plain": [
       "0"
      ]
     },
     "execution_count": 100,
     "metadata": {},
     "output_type": "execute_result"
    }
   ],
   "source": [
    "del df_counts_7_buy\n",
    "del df_counts_7_cart\n",
    "del counts_7_active\n",
    "gc.collect()"
   ]
  },
  {
   "cell_type": "markdown",
   "metadata": {},
   "source": [
    "## 最后一次行为距今天数"
   ]
  },
  {
   "cell_type": "markdown",
   "metadata": {},
   "source": [
    "### 上次浏览距今天数"
   ]
  },
  {
   "cell_type": "code",
   "execution_count": 101,
   "metadata": {},
   "outputs": [],
   "source": [
    "days_browse = df[df['behavior_type']==1].groupby('user_id')['date'].max().apply(lambda x:(datetime.strptime('2014-12-19','%Y-%m-%d')-x).days)"
   ]
  },
  {
   "cell_type": "code",
   "execution_count": 102,
   "metadata": {},
   "outputs": [
    {
     "data": {
      "text/plain": [
       "user_id\n",
       "492       1\n",
       "3726      1\n",
       "19137    12\n",
       "36465     7\n",
       "37101     3\n",
       "Name: date, dtype: int64"
      ]
     },
     "execution_count": 102,
     "metadata": {},
     "output_type": "execute_result"
    }
   ],
   "source": [
    "days_browse.head()"
   ]
  },
  {
   "cell_type": "code",
   "execution_count": 103,
   "metadata": {},
   "outputs": [],
   "source": [
    "labels = pd.merge(labels,days_browse,how='left',on='user_id')"
   ]
  },
  {
   "cell_type": "code",
   "execution_count": 104,
   "metadata": {},
   "outputs": [],
   "source": [
    "labels.rename(columns={'date':'days_browse'},inplace=True)"
   ]
  },
  {
   "cell_type": "markdown",
   "metadata": {},
   "source": [
    "### 上次加购距今天数"
   ]
  },
  {
   "cell_type": "code",
   "execution_count": 105,
   "metadata": {},
   "outputs": [],
   "source": [
    "days_cart = df[df['behavior_type']==3].groupby('user_id')['date'].max().apply(lambda x:(datetime.strptime('2014-12-19','%Y-%m-%d')-x).days)"
   ]
  },
  {
   "cell_type": "code",
   "execution_count": 106,
   "metadata": {},
   "outputs": [
    {
     "data": {
      "text/plain": [
       "user_id\n",
       "492       8\n",
       "37101     6\n",
       "45561     2\n",
       "59436     1\n",
       "61797    25\n",
       "Name: date, dtype: int64"
      ]
     },
     "execution_count": 106,
     "metadata": {},
     "output_type": "execute_result"
    }
   ],
   "source": [
    "days_cart.head()"
   ]
  },
  {
   "cell_type": "code",
   "execution_count": 107,
   "metadata": {},
   "outputs": [],
   "source": [
    "labels = pd.merge(labels,days_cart,how='left',on='user_id')\n",
    "labels.rename(columns={'date':'days_cart'},inplace=True)"
   ]
  },
  {
   "cell_type": "markdown",
   "metadata": {},
   "source": [
    "### 上次购买距今天数"
   ]
  },
  {
   "cell_type": "code",
   "execution_count": 108,
   "metadata": {},
   "outputs": [],
   "source": [
    "days_buy = df[df['behavior_type']==4].groupby('user_id')['date'].max().apply(lambda x:(datetime.strptime('2014-12-19','%Y-%m-%d')-x).days)"
   ]
  },
  {
   "cell_type": "code",
   "execution_count": 109,
   "metadata": {},
   "outputs": [
    {
     "data": {
      "text/plain": [
       "user_id\n",
       "37101     14\n",
       "38745     23\n",
       "45561      6\n",
       "59436      7\n",
       "100605     7\n",
       "Name: date, dtype: int64"
      ]
     },
     "execution_count": 109,
     "metadata": {},
     "output_type": "execute_result"
    }
   ],
   "source": [
    "days_buy.head()"
   ]
  },
  {
   "cell_type": "code",
   "execution_count": 110,
   "metadata": {},
   "outputs": [],
   "source": [
    "labels = pd.merge(labels,days_buy,how='left',on='user_id')\n",
    "labels.rename(columns={'date':'days_buy'},inplace=True)"
   ]
  },
  {
   "cell_type": "code",
   "execution_count": 111,
   "metadata": {},
   "outputs": [
    {
     "data": {
      "text/plain": [
       "0"
      ]
     },
     "execution_count": 111,
     "metadata": {},
     "output_type": "execute_result"
    }
   ],
   "source": [
    "del days_browse\n",
    "del days_buy\n",
    "del days_cart\n",
    "gc.collect()"
   ]
  },
  {
   "cell_type": "markdown",
   "metadata": {},
   "source": [
    "## 最近两次购买间隔天数"
   ]
  },
  {
   "cell_type": "code",
   "execution_count": 112,
   "metadata": {},
   "outputs": [],
   "source": [
    "df_interval_buy = df[df['behavior_type']==4].groupby(['user_id','date']).item_id.count().reset_index()"
   ]
  },
  {
   "cell_type": "code",
   "execution_count": 113,
   "metadata": {},
   "outputs": [],
   "source": [
    "interval_buy = df_interval_buy.groupby('user_id')['date'].apply(lambda x:x.sort_values().diff(1).dropna().head(1)).reset_index()\n",
    "interval_buy['date'] = interval_buy['date'].apply(lambda x : x.days)"
   ]
  },
  {
   "cell_type": "code",
   "execution_count": 114,
   "metadata": {},
   "outputs": [],
   "source": [
    "interval_buy.drop('level_1',axis=1,inplace=True)"
   ]
  },
  {
   "cell_type": "code",
   "execution_count": 115,
   "metadata": {},
   "outputs": [],
   "source": [
    "interval_buy.rename(columns={'date':'interval_buy'},inplace=True)"
   ]
  },
  {
   "cell_type": "code",
   "execution_count": 116,
   "metadata": {},
   "outputs": [
    {
     "data": {
      "text/html": [
       "<div>\n",
       "<style scoped>\n",
       "    .dataframe tbody tr th:only-of-type {\n",
       "        vertical-align: middle;\n",
       "    }\n",
       "\n",
       "    .dataframe tbody tr th {\n",
       "        vertical-align: top;\n",
       "    }\n",
       "\n",
       "    .dataframe thead th {\n",
       "        text-align: right;\n",
       "    }\n",
       "</style>\n",
       "<table border=\"1\" class=\"dataframe\">\n",
       "  <thead>\n",
       "    <tr style=\"text-align: right;\">\n",
       "      <th></th>\n",
       "      <th>user_id</th>\n",
       "      <th>interval_buy</th>\n",
       "    </tr>\n",
       "  </thead>\n",
       "  <tbody>\n",
       "    <tr>\n",
       "      <th>0</th>\n",
       "      <td>45561</td>\n",
       "      <td>1</td>\n",
       "    </tr>\n",
       "    <tr>\n",
       "      <th>1</th>\n",
       "      <td>59436</td>\n",
       "      <td>22</td>\n",
       "    </tr>\n",
       "    <tr>\n",
       "      <th>2</th>\n",
       "      <td>106362</td>\n",
       "      <td>3</td>\n",
       "    </tr>\n",
       "    <tr>\n",
       "      <th>3</th>\n",
       "      <td>131694</td>\n",
       "      <td>18</td>\n",
       "    </tr>\n",
       "    <tr>\n",
       "      <th>4</th>\n",
       "      <td>137907</td>\n",
       "      <td>17</td>\n",
       "    </tr>\n",
       "  </tbody>\n",
       "</table>\n",
       "</div>"
      ],
      "text/plain": [
       "   user_id  interval_buy\n",
       "0    45561             1\n",
       "1    59436            22\n",
       "2   106362             3\n",
       "3   131694            18\n",
       "4   137907            17"
      ]
     },
     "execution_count": 116,
     "metadata": {},
     "output_type": "execute_result"
    }
   ],
   "source": [
    "interval_buy.head()"
   ]
  },
  {
   "cell_type": "code",
   "execution_count": 117,
   "metadata": {},
   "outputs": [],
   "source": [
    "labels = pd.merge(labels,interval_buy,how='left',on='user_id')"
   ]
  },
  {
   "cell_type": "code",
   "execution_count": 118,
   "metadata": {},
   "outputs": [
    {
     "data": {
      "text/plain": [
       "0"
      ]
     },
     "execution_count": 118,
     "metadata": {},
     "output_type": "execute_result"
    }
   ],
   "source": [
    "del df_interval_buy\n",
    "gc.collect()"
   ]
  },
  {
   "cell_type": "markdown",
   "metadata": {},
   "source": [
    "## 是否浏览未下单"
   ]
  },
  {
   "cell_type": "code",
   "execution_count": 119,
   "metadata": {},
   "outputs": [],
   "source": [
    "df_browse_buy = df.loc[(df['behavior_type']==1) | (df['behavior_type']==4),['user_id','item_id','behavior_type','time']]"
   ]
  },
  {
   "cell_type": "code",
   "execution_count": 120,
   "metadata": {},
   "outputs": [],
   "source": [
    "browse_not_buy = pd.pivot_table(df_browse_buy,index=['user_id','item_id'],columns=['behavior_type'],values=['time'],aggfunc=['count'])"
   ]
  },
  {
   "cell_type": "code",
   "execution_count": 121,
   "metadata": {},
   "outputs": [],
   "source": [
    "browse_not_buy.columns = ['browse','buy']"
   ]
  },
  {
   "cell_type": "code",
   "execution_count": 122,
   "metadata": {},
   "outputs": [],
   "source": [
    "browse_not_buy.fillna(0,inplace=True)"
   ]
  },
  {
   "cell_type": "code",
   "execution_count": 123,
   "metadata": {},
   "outputs": [],
   "source": [
    "browse_not_buy['browse_not_buy'] = 0"
   ]
  },
  {
   "cell_type": "code",
   "execution_count": 124,
   "metadata": {},
   "outputs": [],
   "source": [
    "browse_not_buy.loc[(browse_not_buy['browse']>0) & (browse_not_buy['buy']==0),'browse_not_buy'] = 1"
   ]
  },
  {
   "cell_type": "code",
   "execution_count": 125,
   "metadata": {},
   "outputs": [],
   "source": [
    "browse_not_buy = browse_not_buy.groupby('user_id')['browse_not_buy'].sum().reset_index()"
   ]
  },
  {
   "cell_type": "code",
   "execution_count": 126,
   "metadata": {},
   "outputs": [
    {
     "data": {
      "text/html": [
       "<div>\n",
       "<style scoped>\n",
       "    .dataframe tbody tr th:only-of-type {\n",
       "        vertical-align: middle;\n",
       "    }\n",
       "\n",
       "    .dataframe tbody tr th {\n",
       "        vertical-align: top;\n",
       "    }\n",
       "\n",
       "    .dataframe thead th {\n",
       "        text-align: right;\n",
       "    }\n",
       "</style>\n",
       "<table border=\"1\" class=\"dataframe\">\n",
       "  <thead>\n",
       "    <tr style=\"text-align: right;\">\n",
       "      <th></th>\n",
       "      <th>user_id</th>\n",
       "      <th>browse_not_buy</th>\n",
       "    </tr>\n",
       "  </thead>\n",
       "  <tbody>\n",
       "    <tr>\n",
       "      <th>0</th>\n",
       "      <td>492</td>\n",
       "      <td>35</td>\n",
       "    </tr>\n",
       "    <tr>\n",
       "      <th>1</th>\n",
       "      <td>3726</td>\n",
       "      <td>57</td>\n",
       "    </tr>\n",
       "    <tr>\n",
       "      <th>2</th>\n",
       "      <td>19137</td>\n",
       "      <td>7</td>\n",
       "    </tr>\n",
       "    <tr>\n",
       "      <th>3</th>\n",
       "      <td>36465</td>\n",
       "      <td>9</td>\n",
       "    </tr>\n",
       "    <tr>\n",
       "      <th>4</th>\n",
       "      <td>37101</td>\n",
       "      <td>108</td>\n",
       "    </tr>\n",
       "  </tbody>\n",
       "</table>\n",
       "</div>"
      ],
      "text/plain": [
       "   user_id  browse_not_buy\n",
       "0      492              35\n",
       "1     3726              57\n",
       "2    19137               7\n",
       "3    36465               9\n",
       "4    37101             108"
      ]
     },
     "execution_count": 126,
     "metadata": {},
     "output_type": "execute_result"
    }
   ],
   "source": [
    "browse_not_buy.head()"
   ]
  },
  {
   "cell_type": "code",
   "execution_count": 127,
   "metadata": {},
   "outputs": [],
   "source": [
    "labels = pd.merge(labels,browse_not_buy,how='left',on='user_id')"
   ]
  },
  {
   "cell_type": "code",
   "execution_count": 128,
   "metadata": {},
   "outputs": [],
   "source": [
    "labels['browse_not_buy'] = labels['browse_not_buy'].apply(lambda x: '是' if x>0 else '否')"
   ]
  },
  {
   "cell_type": "markdown",
   "metadata": {},
   "source": [
    "## 是否加购未下单"
   ]
  },
  {
   "cell_type": "code",
   "execution_count": 129,
   "metadata": {},
   "outputs": [],
   "source": [
    "df_cart_buy = df.loc[(df['behavior_type']==3) | (df['behavior_type']==4),['user_id','item_id','behavior_type','time']]\n",
    "cart_not_buy = pd.pivot_table(df_cart_buy,index=['user_id','item_id'],columns=['behavior_type'],values=['time'],aggfunc=['count'])\n",
    "cart_not_buy.columns = ['cart','buy']\n",
    "cart_not_buy.fillna(0,inplace=True)\n",
    "cart_not_buy['cart_not_buy'] = 0\n",
    "cart_not_buy.loc[(cart_not_buy['cart']>0) & (cart_not_buy['buy']==0),'cart_not_buy'] = 1\n",
    "cart_not_buy = cart_not_buy.groupby('user_id')['cart_not_buy'].sum().reset_index()"
   ]
  },
  {
   "cell_type": "code",
   "execution_count": 130,
   "metadata": {},
   "outputs": [
    {
     "data": {
      "text/html": [
       "<div>\n",
       "<style scoped>\n",
       "    .dataframe tbody tr th:only-of-type {\n",
       "        vertical-align: middle;\n",
       "    }\n",
       "\n",
       "    .dataframe tbody tr th {\n",
       "        vertical-align: top;\n",
       "    }\n",
       "\n",
       "    .dataframe thead th {\n",
       "        text-align: right;\n",
       "    }\n",
       "</style>\n",
       "<table border=\"1\" class=\"dataframe\">\n",
       "  <thead>\n",
       "    <tr style=\"text-align: right;\">\n",
       "      <th></th>\n",
       "      <th>user_id</th>\n",
       "      <th>cart_not_buy</th>\n",
       "    </tr>\n",
       "  </thead>\n",
       "  <tbody>\n",
       "    <tr>\n",
       "      <th>0</th>\n",
       "      <td>492</td>\n",
       "      <td>1</td>\n",
       "    </tr>\n",
       "    <tr>\n",
       "      <th>1</th>\n",
       "      <td>37101</td>\n",
       "      <td>4</td>\n",
       "    </tr>\n",
       "    <tr>\n",
       "      <th>2</th>\n",
       "      <td>38745</td>\n",
       "      <td>0</td>\n",
       "    </tr>\n",
       "    <tr>\n",
       "      <th>3</th>\n",
       "      <td>45561</td>\n",
       "      <td>43</td>\n",
       "    </tr>\n",
       "    <tr>\n",
       "      <th>4</th>\n",
       "      <td>59436</td>\n",
       "      <td>9</td>\n",
       "    </tr>\n",
       "  </tbody>\n",
       "</table>\n",
       "</div>"
      ],
      "text/plain": [
       "   user_id  cart_not_buy\n",
       "0      492             1\n",
       "1    37101             4\n",
       "2    38745             0\n",
       "3    45561            43\n",
       "4    59436             9"
      ]
     },
     "execution_count": 130,
     "metadata": {},
     "output_type": "execute_result"
    }
   ],
   "source": [
    "cart_not_buy.head()"
   ]
  },
  {
   "cell_type": "code",
   "execution_count": 131,
   "metadata": {},
   "outputs": [],
   "source": [
    "labels = pd.merge(labels,cart_not_buy,how='left',on='user_id')"
   ]
  },
  {
   "cell_type": "code",
   "execution_count": 132,
   "metadata": {},
   "outputs": [],
   "source": [
    "labels['cart_not_buy'] = labels['cart_not_buy'].apply(lambda x: '是' if x>0 else '否')"
   ]
  },
  {
   "cell_type": "markdown",
   "metadata": {},
   "source": [
    "## 用户属性标签"
   ]
  },
  {
   "cell_type": "markdown",
   "metadata": {},
   "source": [
    "### 是否复购用户"
   ]
  },
  {
   "cell_type": "code",
   "execution_count": 133,
   "metadata": {},
   "outputs": [],
   "source": [
    "buy_again = df[df['behavior_type']==4].groupby('user_id')['item_id'].count().reset_index()\n",
    "buy_again.rename(columns={'item_id':'buy_again'},inplace=True)"
   ]
  },
  {
   "cell_type": "code",
   "execution_count": 134,
   "metadata": {},
   "outputs": [
    {
     "data": {
      "text/html": [
       "<div>\n",
       "<style scoped>\n",
       "    .dataframe tbody tr th:only-of-type {\n",
       "        vertical-align: middle;\n",
       "    }\n",
       "\n",
       "    .dataframe tbody tr th {\n",
       "        vertical-align: top;\n",
       "    }\n",
       "\n",
       "    .dataframe thead th {\n",
       "        text-align: right;\n",
       "    }\n",
       "</style>\n",
       "<table border=\"1\" class=\"dataframe\">\n",
       "  <thead>\n",
       "    <tr style=\"text-align: right;\">\n",
       "      <th></th>\n",
       "      <th>user_id</th>\n",
       "      <th>buy_again</th>\n",
       "    </tr>\n",
       "  </thead>\n",
       "  <tbody>\n",
       "    <tr>\n",
       "      <th>0</th>\n",
       "      <td>37101</td>\n",
       "      <td>1</td>\n",
       "    </tr>\n",
       "    <tr>\n",
       "      <th>1</th>\n",
       "      <td>38745</td>\n",
       "      <td>1</td>\n",
       "    </tr>\n",
       "    <tr>\n",
       "      <th>2</th>\n",
       "      <td>45561</td>\n",
       "      <td>2</td>\n",
       "    </tr>\n",
       "    <tr>\n",
       "      <th>3</th>\n",
       "      <td>59436</td>\n",
       "      <td>2</td>\n",
       "    </tr>\n",
       "    <tr>\n",
       "      <th>4</th>\n",
       "      <td>100605</td>\n",
       "      <td>3</td>\n",
       "    </tr>\n",
       "  </tbody>\n",
       "</table>\n",
       "</div>"
      ],
      "text/plain": [
       "   user_id  buy_again\n",
       "0    37101          1\n",
       "1    38745          1\n",
       "2    45561          2\n",
       "3    59436          2\n",
       "4   100605          3"
      ]
     },
     "execution_count": 134,
     "metadata": {},
     "output_type": "execute_result"
    }
   ],
   "source": [
    "buy_again.head()"
   ]
  },
  {
   "cell_type": "code",
   "execution_count": 135,
   "metadata": {},
   "outputs": [],
   "source": [
    "labels = pd.merge(labels,buy_again,how='left',on='user_id')\n",
    "labels['buy_again'].fillna(-1,inplace=True)\n",
    "#未购买的用户标记为‘未购买’，有购买未复购的用户标记为‘否’，有复购的用户标记为‘是’\n",
    "labels['buy_again'] = labels['buy_again'].apply(lambda x: '是' if x>1 else  '否' if x==1 else '未购买')"
   ]
  },
  {
   "cell_type": "markdown",
   "metadata": {},
   "source": [
    "### 访问活跃度"
   ]
  },
  {
   "cell_type": "code",
   "execution_count": 136,
   "metadata": {},
   "outputs": [],
   "source": [
    "user_active_level = labels['counts_30_active'].value_counts().sort_index(ascending=False)"
   ]
  },
  {
   "cell_type": "code",
   "execution_count": 137,
   "metadata": {},
   "outputs": [
    {
     "data": {
      "text/plain": [
       "Text(0.5, 0, '访问次数')"
      ]
     },
     "execution_count": 137,
     "metadata": {},
     "output_type": "execute_result"
    },
    {
     "data": {
      "image/png": "[encoded data removed]",
      "text/plain": [
       "<Figure size 1152x648 with 1 Axes>"
      ]
     },
     "metadata": {
      "needs_background": "light"
     },
     "output_type": "display_data"
    }
   ],
   "source": [
    "plt.figure(figsize=(16,9))\n",
    "user_active_level.plot(title='30天内访问次数与访问人数的关系',fontsize=18)\n",
    "plt.ylabel('访问人数',fontsize=14)\n",
    "plt.xlabel('访问次数',fontsize=14)"
   ]
  },
  {
   "cell_type": "markdown",
   "metadata": {},
   "source": [
    "上图可知，访问次数多的访客比访问次数少的访客数量多，且在20次左右为拐点，因此定义访问次数小于等于18次的为低活跃度，访问次数大于18次定义为高活跃度。\n",
    "该图中，访问次数多的客户比访问次数少的客户数量多，与绝大多数产品访问规律相反。从侧面反映了淘宝的用户粘性强。\n"
   ]
  },
  {
   "cell_type": "code",
   "execution_count": 138,
   "metadata": {},
   "outputs": [],
   "source": [
    "labels['user_active_level'] = '高'\n",
    "labels.loc[labels['counts_30_active']<=18,'user_active_level'] = '低'"
   ]
  },
  {
   "cell_type": "markdown",
   "metadata": {},
   "source": [
    "## 购买活跃度"
   ]
  },
  {
   "cell_type": "code",
   "execution_count": 139,
   "metadata": {},
   "outputs": [],
   "source": [
    "buy_active_level = labels['counts_30_buy'].value_counts().sort_index(ascending=False)"
   ]
  },
  {
   "cell_type": "code",
   "execution_count": 140,
   "metadata": {},
   "outputs": [
    {
     "data": {
      "text/plain": [
       "Text(0.5, 0, '购买次数')"
      ]
     },
     "execution_count": 140,
     "metadata": {},
     "output_type": "execute_result"
    },
    {
     "data": {
      "image/png": "[encoded data removed]",
      "text/plain": [
       "<Figure size 1152x648 with 1 Axes>"
      ]
     },
     "metadata": {
      "needs_background": "light"
     },
     "output_type": "display_data"
    }
   ],
   "source": [
    "plt.figure(figsize=(16,9))\n",
    "buy_active_level.plot(title='30天内购买次数与购买人数的关系',fontsize=18)\n",
    "plt.ylabel('购买人数',fontsize=14)\n",
    "plt.xlabel('购买次数',fontsize=14)"
   ]
  },
  {
   "cell_type": "markdown",
   "metadata": {},
   "source": [
    "14次左右是一个拐点，因此定义购买次数小于等于14次为低活跃，大于14次为高活跃。\n",
    "此定义只是从用户的角度触发，工作中当从业务出发定义是否活跃"
   ]
  },
  {
   "cell_type": "code",
   "execution_count": 141,
   "metadata": {},
   "outputs": [],
   "source": [
    "labels['buy_active_level'] = '高'\n",
    "labels.loc[labels['counts_30_buy']<=14,'buy_active_level'] = '低'"
   ]
  },
  {
   "cell_type": "markdown",
   "metadata": {},
   "source": [
    "## 购买的品类是否单一"
   ]
  },
  {
   "cell_type": "code",
   "execution_count": 142,
   "metadata": {},
   "outputs": [],
   "source": [
    "buy_single = df[df['behavior_type']==4].groupby('user_id').item_category.nunique().reset_index()"
   ]
  },
  {
   "cell_type": "code",
   "execution_count": 143,
   "metadata": {},
   "outputs": [],
   "source": [
    "buy_single.rename(columns={'item_category':'buy_single'},inplace=True)"
   ]
  },
  {
   "cell_type": "code",
   "execution_count": 144,
   "metadata": {},
   "outputs": [],
   "source": [
    "labels = pd.merge(labels,buy_single,how='left',on='user_id')"
   ]
  },
  {
   "cell_type": "code",
   "execution_count": 145,
   "metadata": {},
   "outputs": [],
   "source": [
    "labels['buy_single'].fillna(-1,inplace=True)"
   ]
  },
  {
   "cell_type": "code",
   "execution_count": 146,
   "metadata": {},
   "outputs": [],
   "source": [
    "labels['buy_single'] = labels['buy_single'].apply(lambda x: '是' if x>1 else  '否' if x==1 else '未购买' )"
   ]
  },
  {
   "cell_type": "code",
   "execution_count": 147,
   "metadata": {},
   "outputs": [
    {
     "data": {
      "text/html": [
       "<div>\n",
       "<style scoped>\n",
       "    .dataframe tbody tr th:only-of-type {\n",
       "        vertical-align: middle;\n",
       "    }\n",
       "\n",
       "    .dataframe tbody tr th {\n",
       "        vertical-align: top;\n",
       "    }\n",
       "\n",
       "    .dataframe thead th {\n",
       "        text-align: right;\n",
       "    }\n",
       "</style>\n",
       "<table border=\"1\" class=\"dataframe\">\n",
       "  <thead>\n",
       "    <tr style=\"text-align: right;\">\n",
       "      <th></th>\n",
       "      <th>user_id</th>\n",
       "      <th>time_browse</th>\n",
       "      <th>time_buy</th>\n",
       "      <th>week_browse</th>\n",
       "      <th>week_buy</th>\n",
       "      <th>cate_most_browse</th>\n",
       "      <th>cate_most_collect</th>\n",
       "      <th>cate_most_cart</th>\n",
       "      <th>cate_most_buy</th>\n",
       "      <th>counts_30_buy</th>\n",
       "      <th>...</th>\n",
       "      <th>days_browse</th>\n",
       "      <th>days_cart</th>\n",
       "      <th>days_buy</th>\n",
       "      <th>interval_buy</th>\n",
       "      <th>browse_not_buy</th>\n",
       "      <th>cart_not_buy</th>\n",
       "      <th>buy_again</th>\n",
       "      <th>user_active_level</th>\n",
       "      <th>buy_active_level</th>\n",
       "      <th>buy_single</th>\n",
       "    </tr>\n",
       "  </thead>\n",
       "  <tbody>\n",
       "    <tr>\n",
       "      <th>0</th>\n",
       "      <td>63995000</td>\n",
       "      <td>晚上</td>\n",
       "      <td>晚上</td>\n",
       "      <td>7</td>\n",
       "      <td>6</td>\n",
       "      <td>6000</td>\n",
       "      <td>NaN</td>\n",
       "      <td>2656,3472,10431,11834</td>\n",
       "      <td>9614</td>\n",
       "      <td>1.0</td>\n",
       "      <td>...</td>\n",
       "      <td>3.0</td>\n",
       "      <td>2.0</td>\n",
       "      <td>6.0</td>\n",
       "      <td>NaN</td>\n",
       "      <td>是</td>\n",
       "      <td>是</td>\n",
       "      <td>否</td>\n",
       "      <td>低</td>\n",
       "      <td>低</td>\n",
       "      <td>否</td>\n",
       "    </tr>\n",
       "    <tr>\n",
       "      <th>1</th>\n",
       "      <td>141227570</td>\n",
       "      <td>下午</td>\n",
       "      <td>上午</td>\n",
       "      <td>3</td>\n",
       "      <td>3</td>\n",
       "      <td>5232</td>\n",
       "      <td>6344,6541</td>\n",
       "      <td>6936</td>\n",
       "      <td>6344</td>\n",
       "      <td>1.0</td>\n",
       "      <td>...</td>\n",
       "      <td>1.0</td>\n",
       "      <td>2.0</td>\n",
       "      <td>9.0</td>\n",
       "      <td>NaN</td>\n",
       "      <td>是</td>\n",
       "      <td>是</td>\n",
       "      <td>否</td>\n",
       "      <td>高</td>\n",
       "      <td>低</td>\n",
       "      <td>否</td>\n",
       "    </tr>\n",
       "    <tr>\n",
       "      <th>2</th>\n",
       "      <td>104574739</td>\n",
       "      <td>晚上</td>\n",
       "      <td>中午</td>\n",
       "      <td>2</td>\n",
       "      <td>7</td>\n",
       "      <td>1863</td>\n",
       "      <td>NaN</td>\n",
       "      <td>3660,10894,11824</td>\n",
       "      <td>8029,9319</td>\n",
       "      <td>2.0</td>\n",
       "      <td>...</td>\n",
       "      <td>1.0</td>\n",
       "      <td>3.0</td>\n",
       "      <td>12.0</td>\n",
       "      <td>NaN</td>\n",
       "      <td>是</td>\n",
       "      <td>是</td>\n",
       "      <td>是</td>\n",
       "      <td>高</td>\n",
       "      <td>低</td>\n",
       "      <td>是</td>\n",
       "    </tr>\n",
       "    <tr>\n",
       "      <th>3</th>\n",
       "      <td>112700668</td>\n",
       "      <td>晚上</td>\n",
       "      <td>下午</td>\n",
       "      <td>1</td>\n",
       "      <td>5</td>\n",
       "      <td>1863</td>\n",
       "      <td>NaN</td>\n",
       "      <td>NaN</td>\n",
       "      <td>9517</td>\n",
       "      <td>1.0</td>\n",
       "      <td>...</td>\n",
       "      <td>1.0</td>\n",
       "      <td>NaN</td>\n",
       "      <td>14.0</td>\n",
       "      <td>NaN</td>\n",
       "      <td>是</td>\n",
       "      <td>否</td>\n",
       "      <td>否</td>\n",
       "      <td>高</td>\n",
       "      <td>低</td>\n",
       "      <td>否</td>\n",
       "    </tr>\n",
       "    <tr>\n",
       "      <th>4</th>\n",
       "      <td>53139833</td>\n",
       "      <td>晚上</td>\n",
       "      <td>下午,晚上</td>\n",
       "      <td>7</td>\n",
       "      <td>3</td>\n",
       "      <td>5399</td>\n",
       "      <td>5399</td>\n",
       "      <td>5232,5399,6255,10661</td>\n",
       "      <td>3988</td>\n",
       "      <td>4.0</td>\n",
       "      <td>...</td>\n",
       "      <td>1.0</td>\n",
       "      <td>8.0</td>\n",
       "      <td>1.0</td>\n",
       "      <td>10.0</td>\n",
       "      <td>是</td>\n",
       "      <td>是</td>\n",
       "      <td>是</td>\n",
       "      <td>高</td>\n",
       "      <td>低</td>\n",
       "      <td>是</td>\n",
       "    </tr>\n",
       "  </tbody>\n",
       "</table>\n",
       "<p>5 rows × 25 columns</p>\n",
       "</div>"
      ],
      "text/plain": [
       "     user_id time_browse time_buy week_browse week_buy cate_most_browse  \\\n",
       "0   63995000          晚上       晚上           7        6             6000   \n",
       "1  141227570          下午       上午           3        3             5232   \n",
       "2  104574739          晚上       中午           2        7             1863   \n",
       "3  112700668          晚上       下午           1        5             1863   \n",
       "4   53139833          晚上    下午,晚上           7        3             5399   \n",
       "\n",
       "  cate_most_collect         cate_most_cart cate_most_buy  counts_30_buy  ...  \\\n",
       "0               NaN  2656,3472,10431,11834          9614            1.0  ...   \n",
       "1         6344,6541                   6936          6344            1.0  ...   \n",
       "2               NaN       3660,10894,11824     8029,9319            2.0  ...   \n",
       "3               NaN                    NaN          9517            1.0  ...   \n",
       "4              5399   5232,5399,6255,10661          3988            4.0  ...   \n",
       "\n",
       "   days_browse  days_cart  days_buy  interval_buy  browse_not_buy  \\\n",
       "0          3.0        2.0       6.0           NaN               是   \n",
       "1          1.0        2.0       9.0           NaN               是   \n",
       "2          1.0        3.0      12.0           NaN               是   \n",
       "3          1.0        NaN      14.0           NaN               是   \n",
       "4          1.0        8.0       1.0          10.0               是   \n",
       "\n",
       "   cart_not_buy  buy_again  user_active_level  buy_active_level buy_single  \n",
       "0             是          否                  低                 低          否  \n",
       "1             是          否                  高                 低          否  \n",
       "2             是          是                  高                 低          是  \n",
       "3             否          否                  高                 低          否  \n",
       "4             是          是                  高                 低          是  \n",
       "\n",
       "[5 rows x 25 columns]"
      ]
     },
     "execution_count": 147,
     "metadata": {},
     "output_type": "execute_result"
    }
   ],
   "source": [
    "labels.head()"
   ]
  },
  {
   "cell_type": "markdown",
   "metadata": {},
   "source": [
    "## 用户价值分组（RFM）"
   ]
  },
  {
   "cell_type": "code",
   "execution_count": 148,
   "metadata": {},
   "outputs": [],
   "source": [
    "last_buy_days = labels['days_buy'].value_counts().sort_index()"
   ]
  },
  {
   "cell_type": "code",
   "execution_count": 149,
   "metadata": {
    "scrolled": true
   },
   "outputs": [
    {
     "data": {
      "text/plain": [
       "Text(0.5, 0, '距今天数')"
      ]
     },
     "execution_count": 149,
     "metadata": {},
     "output_type": "execute_result"
    },
    {
     "data": {
      "image/png": "[encoded data removed]",
      "text/plain": [
       "<Figure size 1152x648 with 1 Axes>"
      ]
     },
     "metadata": {
      "needs_background": "light"
     },
     "output_type": "display_data"
    }
   ],
   "source": [
    "plt.figure(figsize=(16,9))\n",
    "last_buy_days.plot(title='最后一次购买距今天数与购买人数的关系',fontsize=18)\n",
    "plt.ylabel('购买人数',fontsize=14)\n",
    "plt.xlabel('距今天数',fontsize=14)"
   ]
  },
  {
   "cell_type": "markdown",
   "metadata": {},
   "source": [
    "ps:异常点为双12"
   ]
  },
  {
   "cell_type": "code",
   "execution_count": 151,
   "metadata": {},
   "outputs": [],
   "source": [
    "labels['buy_days_level'] = '高'\n",
    "labels.loc[labels['days_buy']>8,'buy_days_level'] = '低'"
   ]
  },
  {
   "cell_type": "code",
   "execution_count": 152,
   "metadata": {},
   "outputs": [],
   "source": [
    "labels['rfm_value'] = labels['buy_active_level'].str.cat(labels['buy_days_level'])"
   ]
  },
  {
   "cell_type": "markdown",
   "metadata": {},
   "source": [
    "因为没有消费金额特征，所以这里只最近一次交易和交易频率两个维度分析"
   ]
  },
  {
   "cell_type": "code",
   "execution_count": 153,
   "metadata": {},
   "outputs": [],
   "source": [
    "def trans_value(x):\n",
    "    if x == '高高':\n",
    "        return '重要价值客户'\n",
    "    elif x == '低高':\n",
    "        return '重要深耕客户'\n",
    "    elif x == '高低':\n",
    "        return '重要唤回客户'\n",
    "    else: \n",
    "        return '即将流失客户'"
   ]
  },
  {
   "cell_type": "code",
   "execution_count": 154,
   "metadata": {},
   "outputs": [],
   "source": [
    "labels['rfm'] = labels['rfm_value'].apply(trans_value)"
   ]
  },
  {
   "cell_type": "code",
   "execution_count": 155,
   "metadata": {},
   "outputs": [],
   "source": [
    "labels.drop(['buy_days_level','rfm_value'],axis=1,inplace=True)"
   ]
  },
  {
   "cell_type": "code",
   "execution_count": 156,
   "metadata": {},
   "outputs": [
    {
     "data": {
      "text/plain": [
       "重要深耕客户    7170\n",
       "重要价值客户    7067\n",
       "即将流失客户    5708\n",
       "重要唤回客户      15\n",
       "Name: rfm, dtype: int64"
      ]
     },
     "execution_count": 156,
     "metadata": {},
     "output_type": "execute_result"
    }
   ],
   "source": [
    "labels['rfm'].value_counts()"
   ]
  },
  {
   "cell_type": "code",
   "execution_count": 157,
   "metadata": {},
   "outputs": [
    {
     "data": {
      "text/html": [
       "<div>\n",
       "<style scoped>\n",
       "    .dataframe tbody tr th:only-of-type {\n",
       "        vertical-align: middle;\n",
       "    }\n",
       "\n",
       "    .dataframe tbody tr th {\n",
       "        vertical-align: top;\n",
       "    }\n",
       "\n",
       "    .dataframe thead th {\n",
       "        text-align: right;\n",
       "    }\n",
       "</style>\n",
       "<table border=\"1\" class=\"dataframe\">\n",
       "  <thead>\n",
       "    <tr style=\"text-align: right;\">\n",
       "      <th></th>\n",
       "      <th>user_id</th>\n",
       "      <th>time_browse</th>\n",
       "      <th>time_buy</th>\n",
       "      <th>week_browse</th>\n",
       "      <th>week_buy</th>\n",
       "      <th>cate_most_browse</th>\n",
       "      <th>cate_most_collect</th>\n",
       "      <th>cate_most_cart</th>\n",
       "      <th>cate_most_buy</th>\n",
       "      <th>counts_30_buy</th>\n",
       "      <th>...</th>\n",
       "      <th>days_cart</th>\n",
       "      <th>days_buy</th>\n",
       "      <th>interval_buy</th>\n",
       "      <th>browse_not_buy</th>\n",
       "      <th>cart_not_buy</th>\n",
       "      <th>buy_again</th>\n",
       "      <th>user_active_level</th>\n",
       "      <th>buy_active_level</th>\n",
       "      <th>buy_single</th>\n",
       "      <th>rfm</th>\n",
       "    </tr>\n",
       "  </thead>\n",
       "  <tbody>\n",
       "    <tr>\n",
       "      <th>0</th>\n",
       "      <td>63995000</td>\n",
       "      <td>晚上</td>\n",
       "      <td>晚上</td>\n",
       "      <td>7</td>\n",
       "      <td>6</td>\n",
       "      <td>6000</td>\n",
       "      <td>NaN</td>\n",
       "      <td>2656,3472,10431,11834</td>\n",
       "      <td>9614</td>\n",
       "      <td>1.0</td>\n",
       "      <td>...</td>\n",
       "      <td>2.0</td>\n",
       "      <td>6.0</td>\n",
       "      <td>NaN</td>\n",
       "      <td>是</td>\n",
       "      <td>是</td>\n",
       "      <td>否</td>\n",
       "      <td>低</td>\n",
       "      <td>低</td>\n",
       "      <td>否</td>\n",
       "      <td>重要深耕客户</td>\n",
       "    </tr>\n",
       "    <tr>\n",
       "      <th>1</th>\n",
       "      <td>141227570</td>\n",
       "      <td>下午</td>\n",
       "      <td>上午</td>\n",
       "      <td>3</td>\n",
       "      <td>3</td>\n",
       "      <td>5232</td>\n",
       "      <td>6344,6541</td>\n",
       "      <td>6936</td>\n",
       "      <td>6344</td>\n",
       "      <td>1.0</td>\n",
       "      <td>...</td>\n",
       "      <td>2.0</td>\n",
       "      <td>9.0</td>\n",
       "      <td>NaN</td>\n",
       "      <td>是</td>\n",
       "      <td>是</td>\n",
       "      <td>否</td>\n",
       "      <td>高</td>\n",
       "      <td>低</td>\n",
       "      <td>否</td>\n",
       "      <td>即将流失客户</td>\n",
       "    </tr>\n",
       "    <tr>\n",
       "      <th>2</th>\n",
       "      <td>104574739</td>\n",
       "      <td>晚上</td>\n",
       "      <td>中午</td>\n",
       "      <td>2</td>\n",
       "      <td>7</td>\n",
       "      <td>1863</td>\n",
       "      <td>NaN</td>\n",
       "      <td>3660,10894,11824</td>\n",
       "      <td>8029,9319</td>\n",
       "      <td>2.0</td>\n",
       "      <td>...</td>\n",
       "      <td>3.0</td>\n",
       "      <td>12.0</td>\n",
       "      <td>NaN</td>\n",
       "      <td>是</td>\n",
       "      <td>是</td>\n",
       "      <td>是</td>\n",
       "      <td>高</td>\n",
       "      <td>低</td>\n",
       "      <td>是</td>\n",
       "      <td>即将流失客户</td>\n",
       "    </tr>\n",
       "    <tr>\n",
       "      <th>3</th>\n",
       "      <td>112700668</td>\n",
       "      <td>晚上</td>\n",
       "      <td>下午</td>\n",
       "      <td>1</td>\n",
       "      <td>5</td>\n",
       "      <td>1863</td>\n",
       "      <td>NaN</td>\n",
       "      <td>NaN</td>\n",
       "      <td>9517</td>\n",
       "      <td>1.0</td>\n",
       "      <td>...</td>\n",
       "      <td>NaN</td>\n",
       "      <td>14.0</td>\n",
       "      <td>NaN</td>\n",
       "      <td>是</td>\n",
       "      <td>否</td>\n",
       "      <td>否</td>\n",
       "      <td>高</td>\n",
       "      <td>低</td>\n",
       "      <td>否</td>\n",
       "      <td>即将流失客户</td>\n",
       "    </tr>\n",
       "    <tr>\n",
       "      <th>4</th>\n",
       "      <td>53139833</td>\n",
       "      <td>晚上</td>\n",
       "      <td>下午,晚上</td>\n",
       "      <td>7</td>\n",
       "      <td>3</td>\n",
       "      <td>5399</td>\n",
       "      <td>5399</td>\n",
       "      <td>5232,5399,6255,10661</td>\n",
       "      <td>3988</td>\n",
       "      <td>4.0</td>\n",
       "      <td>...</td>\n",
       "      <td>8.0</td>\n",
       "      <td>1.0</td>\n",
       "      <td>10.0</td>\n",
       "      <td>是</td>\n",
       "      <td>是</td>\n",
       "      <td>是</td>\n",
       "      <td>高</td>\n",
       "      <td>低</td>\n",
       "      <td>是</td>\n",
       "      <td>重要深耕客户</td>\n",
       "    </tr>\n",
       "  </tbody>\n",
       "</table>\n",
       "<p>5 rows × 26 columns</p>\n",
       "</div>"
      ],
      "text/plain": [
       "     user_id time_browse time_buy week_browse week_buy cate_most_browse  \\\n",
       "0   63995000          晚上       晚上           7        6             6000   \n",
       "1  141227570          下午       上午           3        3             5232   \n",
       "2  104574739          晚上       中午           2        7             1863   \n",
       "3  112700668          晚上       下午           1        5             1863   \n",
       "4   53139833          晚上    下午,晚上           7        3             5399   \n",
       "\n",
       "  cate_most_collect         cate_most_cart cate_most_buy  counts_30_buy  ...  \\\n",
       "0               NaN  2656,3472,10431,11834          9614            1.0  ...   \n",
       "1         6344,6541                   6936          6344            1.0  ...   \n",
       "2               NaN       3660,10894,11824     8029,9319            2.0  ...   \n",
       "3               NaN                    NaN          9517            1.0  ...   \n",
       "4              5399   5232,5399,6255,10661          3988            4.0  ...   \n",
       "\n",
       "   days_cart  days_buy  interval_buy  browse_not_buy  cart_not_buy  buy_again  \\\n",
       "0        2.0       6.0           NaN               是             是          否   \n",
       "1        2.0       9.0           NaN               是             是          否   \n",
       "2        3.0      12.0           NaN               是             是          是   \n",
       "3        NaN      14.0           NaN               是             否          否   \n",
       "4        8.0       1.0          10.0               是             是          是   \n",
       "\n",
       "   user_active_level  buy_active_level  buy_single     rfm  \n",
       "0                  低                 低           否  重要深耕客户  \n",
       "1                  高                 低           否  即将流失客户  \n",
       "2                  高                 低           是  即将流失客户  \n",
       "3                  高                 低           否  即将流失客户  \n",
       "4                  高                 低           是  重要深耕客户  \n",
       "\n",
       "[5 rows x 26 columns]"
      ]
     },
     "execution_count": 157,
     "metadata": {},
     "output_type": "execute_result"
    }
   ],
   "source": [
    "labels.head()"
   ]
  },
  {
   "cell_type": "code",
   "execution_count": null,
   "metadata": {},
   "outputs": [],
   "source": []
  }
 ],
 "metadata": {
  "kernelspec": {
   "display_name": "Python 3",
   "language": "python",
   "name": "python3"
  },
  "language_info": {
   "codemirror_mode": {
    "name": "ipython",
    "version": 3
   },
   "file_extension": ".py",
   "mimetype": "text/x-python",
   "name": "python",
   "nbconvert_exporter": "python",
   "pygments_lexer": "ipython3",
   "version": "3.7.0a4"
  }
 },
 "nbformat": 4,
 "nbformat_minor": 4
}
